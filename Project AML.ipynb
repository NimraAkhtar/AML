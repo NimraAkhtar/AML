{
 "cells": [
  {
   "cell_type": "markdown",
   "metadata": {
    "id": "wP6l0cDjKeYX"
   },
   "source": [
    "# Car Price Prediction"
   ]
  },
  {
   "cell_type": "markdown",
   "metadata": {},
   "source": [
    "## EDA"
   ]
  },
  {
   "cell_type": "code",
   "execution_count": 1,
   "metadata": {},
   "outputs": [],
   "source": [
    "import pandas as pd\n",
    "import numpy as np\n",
    "import matplotlib.pyplot as plt\n",
    "import seaborn as sns"
   ]
  },
  {
   "cell_type": "code",
   "execution_count": 2,
   "metadata": {
    "colab": {
     "base_uri": "https://localhost:8080/",
     "height": 548
    },
    "id": "8-0Zm2ZdOyha",
    "outputId": "b8cb9f0e-a2da-4a1b-9521-f53ff78e3c6c"
   },
   "outputs": [
    {
     "data": {
      "text/html": [
       "<div>\n",
       "<style scoped>\n",
       "    .dataframe tbody tr th:only-of-type {\n",
       "        vertical-align: middle;\n",
       "    }\n",
       "\n",
       "    .dataframe tbody tr th {\n",
       "        vertical-align: top;\n",
       "    }\n",
       "\n",
       "    .dataframe thead th {\n",
       "        text-align: right;\n",
       "    }\n",
       "</style>\n",
       "<table border=\"1\" class=\"dataframe\">\n",
       "  <thead>\n",
       "    <tr style=\"text-align: right;\">\n",
       "      <th></th>\n",
       "      <th>Make</th>\n",
       "      <th>Year</th>\n",
       "      <th>Mileage</th>\n",
       "      <th>Type</th>\n",
       "      <th>Transmission</th>\n",
       "      <th>CC</th>\n",
       "      <th>Price</th>\n",
       "    </tr>\n",
       "  </thead>\n",
       "  <tbody>\n",
       "    <tr>\n",
       "      <th>0</th>\n",
       "      <td>Honda Civic VTi Oriel Prosmatec 1.8 i-VTEC 2007</td>\n",
       "      <td>2007.0</td>\n",
       "      <td>100,000 km</td>\n",
       "      <td>Petrol</td>\n",
       "      <td>Automatic</td>\n",
       "      <td>1800 cc</td>\n",
       "      <td>PKR 16.5 lacs</td>\n",
       "    </tr>\n",
       "    <tr>\n",
       "      <th>1</th>\n",
       "      <td>Suzuki Mehran VX Euro II 2012</td>\n",
       "      <td>2012.0</td>\n",
       "      <td>100,000 km</td>\n",
       "      <td>Petrol</td>\n",
       "      <td>Manual</td>\n",
       "      <td>800 cc</td>\n",
       "      <td>PKR 7 lacs</td>\n",
       "    </tr>\n",
       "    <tr>\n",
       "      <th>2</th>\n",
       "      <td>Honda Civic EX 1995</td>\n",
       "      <td>1995.0</td>\n",
       "      <td>999 km</td>\n",
       "      <td>Petrol</td>\n",
       "      <td>Manual</td>\n",
       "      <td>1500 cc</td>\n",
       "      <td>PKR 7.6 lacs</td>\n",
       "    </tr>\n",
       "    <tr>\n",
       "      <th>3</th>\n",
       "      <td>Toyota Fortuner 2.7 VVTi 2013</td>\n",
       "      <td>2013.0</td>\n",
       "      <td>94,000 km</td>\n",
       "      <td>Petrol</td>\n",
       "      <td>Automatic</td>\n",
       "      <td>2700 cc</td>\n",
       "      <td>PKR 70 lacs</td>\n",
       "    </tr>\n",
       "    <tr>\n",
       "      <th>4</th>\n",
       "      <td>Suzuki Mehran VX Euro II 2015</td>\n",
       "      <td>2015.0</td>\n",
       "      <td>86,000 km</td>\n",
       "      <td>Petrol</td>\n",
       "      <td>Manual</td>\n",
       "      <td>796 cc</td>\n",
       "      <td>PKR 8 lacs</td>\n",
       "    </tr>\n",
       "  </tbody>\n",
       "</table>\n",
       "</div>"
      ],
      "text/plain": [
       "                                              Make    Year     Mileage  \\\n",
       "0  Honda Civic VTi Oriel Prosmatec 1.8 i-VTEC 2007  2007.0  100,000 km   \n",
       "1                    Suzuki Mehran VX Euro II 2012  2012.0  100,000 km   \n",
       "2                              Honda Civic EX 1995  1995.0      999 km   \n",
       "3                    Toyota Fortuner 2.7 VVTi 2013  2013.0   94,000 km   \n",
       "4                    Suzuki Mehran VX Euro II 2015  2015.0   86,000 km   \n",
       "\n",
       "     Type Transmission       CC          Price  \n",
       "0  Petrol    Automatic  1800 cc  PKR 16.5 lacs  \n",
       "1  Petrol       Manual   800 cc     PKR 7 lacs  \n",
       "2  Petrol       Manual  1500 cc   PKR 7.6 lacs  \n",
       "3  Petrol    Automatic  2700 cc    PKR 70 lacs  \n",
       "4  Petrol       Manual   796 cc     PKR 8 lacs  "
      ]
     },
     "execution_count": 2,
     "metadata": {},
     "output_type": "execute_result"
    }
   ],
   "source": [
    "import pandas as pd\n",
    "import numpy as np\n",
    "df = pd.read_csv(r'C:\\Users\\Wasim\\Downloads\\pakwheels.csv')\n",
    "df.head()"
   ]
  },
  {
   "cell_type": "code",
   "execution_count": 3,
   "metadata": {},
   "outputs": [
    {
     "name": "stdout",
     "output_type": "stream",
     "text": [
      "<class 'pandas.core.frame.DataFrame'>\n",
      "RangeIndex: 89956 entries, 0 to 89955\n",
      "Data columns (total 7 columns):\n",
      " #   Column        Non-Null Count  Dtype  \n",
      "---  ------        --------------  -----  \n",
      " 0   Make          89956 non-null  object \n",
      " 1   Year          87449 non-null  float64\n",
      " 2   Mileage       89954 non-null  object \n",
      " 3   Type          89001 non-null  object \n",
      " 4   Transmission  89954 non-null  object \n",
      " 5   CC            89954 non-null  object \n",
      " 6   Price         89954 non-null  object \n",
      "dtypes: float64(1), object(6)\n",
      "memory usage: 4.8+ MB\n"
     ]
    }
   ],
   "source": [
    "df.info()"
   ]
  },
  {
   "cell_type": "code",
   "execution_count": 4,
   "metadata": {},
   "outputs": [
    {
     "data": {
      "text/plain": [
       "Make               0\n",
       "Year            2507\n",
       "Mileage            2\n",
       "Type             955\n",
       "Transmission       2\n",
       "CC                 2\n",
       "Price              2\n",
       "dtype: int64"
      ]
     },
     "execution_count": 4,
     "metadata": {},
     "output_type": "execute_result"
    }
   ],
   "source": [
    "df.isna().sum()"
   ]
  },
  {
   "cell_type": "code",
   "execution_count": 5,
   "metadata": {},
   "outputs": [
    {
     "data": {
      "text/html": [
       "<div>\n",
       "<style scoped>\n",
       "    .dataframe tbody tr th:only-of-type {\n",
       "        vertical-align: middle;\n",
       "    }\n",
       "\n",
       "    .dataframe tbody tr th {\n",
       "        vertical-align: top;\n",
       "    }\n",
       "\n",
       "    .dataframe thead th {\n",
       "        text-align: right;\n",
       "    }\n",
       "</style>\n",
       "<table border=\"1\" class=\"dataframe\">\n",
       "  <thead>\n",
       "    <tr style=\"text-align: right;\">\n",
       "      <th></th>\n",
       "      <th>Make</th>\n",
       "      <th>Year</th>\n",
       "      <th>Mileage</th>\n",
       "      <th>Type</th>\n",
       "      <th>Transmission</th>\n",
       "      <th>CC</th>\n",
       "      <th>Price</th>\n",
       "    </tr>\n",
       "  </thead>\n",
       "  <tbody>\n",
       "    <tr>\n",
       "      <th>count</th>\n",
       "      <td>89956</td>\n",
       "      <td>87449.000000</td>\n",
       "      <td>89954</td>\n",
       "      <td>89001</td>\n",
       "      <td>89954</td>\n",
       "      <td>89954</td>\n",
       "      <td>89954</td>\n",
       "    </tr>\n",
       "    <tr>\n",
       "      <th>unique</th>\n",
       "      <td>9852</td>\n",
       "      <td>NaN</td>\n",
       "      <td>9609</td>\n",
       "      <td>3</td>\n",
       "      <td>2</td>\n",
       "      <td>205</td>\n",
       "      <td>2224</td>\n",
       "    </tr>\n",
       "    <tr>\n",
       "      <th>top</th>\n",
       "      <td>Suzuki Alto VXR 2022</td>\n",
       "      <td>NaN</td>\n",
       "      <td>100,000 km</td>\n",
       "      <td>Petrol</td>\n",
       "      <td>Automatic</td>\n",
       "      <td>1000 cc</td>\n",
       "      <td>Call for price</td>\n",
       "    </tr>\n",
       "    <tr>\n",
       "      <th>freq</th>\n",
       "      <td>924</td>\n",
       "      <td>NaN</td>\n",
       "      <td>4035</td>\n",
       "      <td>82049</td>\n",
       "      <td>46545</td>\n",
       "      <td>17975</td>\n",
       "      <td>1405</td>\n",
       "    </tr>\n",
       "    <tr>\n",
       "      <th>mean</th>\n",
       "      <td>NaN</td>\n",
       "      <td>2012.861576</td>\n",
       "      <td>NaN</td>\n",
       "      <td>NaN</td>\n",
       "      <td>NaN</td>\n",
       "      <td>NaN</td>\n",
       "      <td>NaN</td>\n",
       "    </tr>\n",
       "    <tr>\n",
       "      <th>std</th>\n",
       "      <td>NaN</td>\n",
       "      <td>7.669485</td>\n",
       "      <td>NaN</td>\n",
       "      <td>NaN</td>\n",
       "      <td>NaN</td>\n",
       "      <td>NaN</td>\n",
       "      <td>NaN</td>\n",
       "    </tr>\n",
       "    <tr>\n",
       "      <th>min</th>\n",
       "      <td>NaN</td>\n",
       "      <td>1990.000000</td>\n",
       "      <td>NaN</td>\n",
       "      <td>NaN</td>\n",
       "      <td>NaN</td>\n",
       "      <td>NaN</td>\n",
       "      <td>NaN</td>\n",
       "    </tr>\n",
       "    <tr>\n",
       "      <th>25%</th>\n",
       "      <td>NaN</td>\n",
       "      <td>2007.000000</td>\n",
       "      <td>NaN</td>\n",
       "      <td>NaN</td>\n",
       "      <td>NaN</td>\n",
       "      <td>NaN</td>\n",
       "      <td>NaN</td>\n",
       "    </tr>\n",
       "    <tr>\n",
       "      <th>50%</th>\n",
       "      <td>NaN</td>\n",
       "      <td>2015.000000</td>\n",
       "      <td>NaN</td>\n",
       "      <td>NaN</td>\n",
       "      <td>NaN</td>\n",
       "      <td>NaN</td>\n",
       "      <td>NaN</td>\n",
       "    </tr>\n",
       "    <tr>\n",
       "      <th>75%</th>\n",
       "      <td>NaN</td>\n",
       "      <td>2019.000000</td>\n",
       "      <td>NaN</td>\n",
       "      <td>NaN</td>\n",
       "      <td>NaN</td>\n",
       "      <td>NaN</td>\n",
       "      <td>NaN</td>\n",
       "    </tr>\n",
       "    <tr>\n",
       "      <th>max</th>\n",
       "      <td>NaN</td>\n",
       "      <td>2022.000000</td>\n",
       "      <td>NaN</td>\n",
       "      <td>NaN</td>\n",
       "      <td>NaN</td>\n",
       "      <td>NaN</td>\n",
       "      <td>NaN</td>\n",
       "    </tr>\n",
       "  </tbody>\n",
       "</table>\n",
       "</div>"
      ],
      "text/plain": [
       "                        Make          Year     Mileage    Type Transmission  \\\n",
       "count                  89956  87449.000000       89954   89001        89954   \n",
       "unique                  9852           NaN        9609       3            2   \n",
       "top     Suzuki Alto VXR 2022           NaN  100,000 km  Petrol    Automatic   \n",
       "freq                     924           NaN        4035   82049        46545   \n",
       "mean                     NaN   2012.861576         NaN     NaN          NaN   \n",
       "std                      NaN      7.669485         NaN     NaN          NaN   \n",
       "min                      NaN   1990.000000         NaN     NaN          NaN   \n",
       "25%                      NaN   2007.000000         NaN     NaN          NaN   \n",
       "50%                      NaN   2015.000000         NaN     NaN          NaN   \n",
       "75%                      NaN   2019.000000         NaN     NaN          NaN   \n",
       "max                      NaN   2022.000000         NaN     NaN          NaN   \n",
       "\n",
       "             CC           Price  \n",
       "count     89954           89954  \n",
       "unique      205            2224  \n",
       "top     1000 cc  Call for price  \n",
       "freq      17975            1405  \n",
       "mean        NaN             NaN  \n",
       "std         NaN             NaN  \n",
       "min         NaN             NaN  \n",
       "25%         NaN             NaN  \n",
       "50%         NaN             NaN  \n",
       "75%         NaN             NaN  \n",
       "max         NaN             NaN  "
      ]
     },
     "execution_count": 5,
     "metadata": {},
     "output_type": "execute_result"
    }
   ],
   "source": [
    "df.describe(include='all')"
   ]
  },
  {
   "cell_type": "markdown",
   "metadata": {},
   "source": [
    "# 1- Handle values under Make column"
   ]
  },
  {
   "cell_type": "markdown",
   "metadata": {},
   "source": [
    "Create individual columns for vehicle name, variant from title columns"
   ]
  },
  {
   "cell_type": "markdown",
   "metadata": {},
   "source": [
    "Get company name from make column. We can also get model name but there will be hundreds of model against each company which will add more dimentionality to data. "
   ]
  },
  {
   "cell_type": "code",
   "execution_count": 6,
   "metadata": {},
   "outputs": [
    {
     "data": {
      "text/plain": [
       "0           Honda\n",
       "1          Suzuki\n",
       "2           Honda\n",
       "3          Toyota\n",
       "4          Suzuki\n",
       "           ...   \n",
       "89951    Daihatsu\n",
       "89952       Honda\n",
       "89953      Toyota\n",
       "89954      Suzuki\n",
       "89955      Toyota\n",
       "Name: Make, Length: 89956, dtype: object"
      ]
     },
     "execution_count": 6,
     "metadata": {},
     "output_type": "execute_result"
    }
   ],
   "source": [
    "df['Make'].str.split(' ')[0][0]\n",
    "df['Make'] = df.Make.apply(lambda x:(x.split(' ')[0]))\n",
    "df['Make']"
   ]
  },
  {
   "cell_type": "code",
   "execution_count": 7,
   "metadata": {},
   "outputs": [
    {
     "data": {
      "text/plain": [
       "Toyota        29114\n",
       "Suzuki        26884\n",
       "Honda         17382\n",
       "Daihatsu       3203\n",
       "KIA            2598\n",
       "              ...  \n",
       "Hummer            1\n",
       "Mushtaq           1\n",
       "Golden            1\n",
       "Citroen           1\n",
       "Oldsmobile        1\n",
       "Name: Make, Length: 73, dtype: int64"
      ]
     },
     "execution_count": 7,
     "metadata": {},
     "output_type": "execute_result"
    }
   ],
   "source": [
    "makes_count = df['Make'].value_counts()\n",
    "makes_count"
   ]
  },
  {
   "cell_type": "code",
   "execution_count": 9,
   "metadata": {},
   "outputs": [
    {
     "data": {
      "text/html": [
       "<div>\n",
       "<style scoped>\n",
       "    .dataframe tbody tr th:only-of-type {\n",
       "        vertical-align: middle;\n",
       "    }\n",
       "\n",
       "    .dataframe tbody tr th {\n",
       "        vertical-align: top;\n",
       "    }\n",
       "\n",
       "    .dataframe thead th {\n",
       "        text-align: right;\n",
       "    }\n",
       "</style>\n",
       "<table border=\"1\" class=\"dataframe\">\n",
       "  <thead>\n",
       "    <tr style=\"text-align: right;\">\n",
       "      <th></th>\n",
       "      <th>Make</th>\n",
       "      <th>Year</th>\n",
       "      <th>Mileage</th>\n",
       "      <th>Type</th>\n",
       "      <th>Transmission</th>\n",
       "      <th>CC</th>\n",
       "      <th>Price</th>\n",
       "    </tr>\n",
       "  </thead>\n",
       "  <tbody>\n",
       "    <tr>\n",
       "      <th>0</th>\n",
       "      <td>Honda</td>\n",
       "      <td>2007.0</td>\n",
       "      <td>100,000 km</td>\n",
       "      <td>Petrol</td>\n",
       "      <td>Automatic</td>\n",
       "      <td>1800 cc</td>\n",
       "      <td>PKR 16.5 lacs</td>\n",
       "    </tr>\n",
       "    <tr>\n",
       "      <th>1</th>\n",
       "      <td>Suzuki</td>\n",
       "      <td>2012.0</td>\n",
       "      <td>100,000 km</td>\n",
       "      <td>Petrol</td>\n",
       "      <td>Manual</td>\n",
       "      <td>800 cc</td>\n",
       "      <td>PKR 7 lacs</td>\n",
       "    </tr>\n",
       "    <tr>\n",
       "      <th>2</th>\n",
       "      <td>Honda</td>\n",
       "      <td>1995.0</td>\n",
       "      <td>999 km</td>\n",
       "      <td>Petrol</td>\n",
       "      <td>Manual</td>\n",
       "      <td>1500 cc</td>\n",
       "      <td>PKR 7.6 lacs</td>\n",
       "    </tr>\n",
       "    <tr>\n",
       "      <th>3</th>\n",
       "      <td>Toyota</td>\n",
       "      <td>2013.0</td>\n",
       "      <td>94,000 km</td>\n",
       "      <td>Petrol</td>\n",
       "      <td>Automatic</td>\n",
       "      <td>2700 cc</td>\n",
       "      <td>PKR 70 lacs</td>\n",
       "    </tr>\n",
       "    <tr>\n",
       "      <th>4</th>\n",
       "      <td>Suzuki</td>\n",
       "      <td>2015.0</td>\n",
       "      <td>86,000 km</td>\n",
       "      <td>Petrol</td>\n",
       "      <td>Manual</td>\n",
       "      <td>796 cc</td>\n",
       "      <td>PKR 8 lacs</td>\n",
       "    </tr>\n",
       "  </tbody>\n",
       "</table>\n",
       "</div>"
      ],
      "text/plain": [
       "     Make    Year     Mileage    Type Transmission       CC          Price\n",
       "0   Honda  2007.0  100,000 km  Petrol    Automatic  1800 cc  PKR 16.5 lacs\n",
       "1  Suzuki  2012.0  100,000 km  Petrol       Manual   800 cc     PKR 7 lacs\n",
       "2   Honda  1995.0      999 km  Petrol       Manual  1500 cc   PKR 7.6 lacs\n",
       "3  Toyota  2013.0   94,000 km  Petrol    Automatic  2700 cc    PKR 70 lacs\n",
       "4  Suzuki  2015.0   86,000 km  Petrol       Manual   796 cc     PKR 8 lacs"
      ]
     },
     "execution_count": 9,
     "metadata": {},
     "output_type": "execute_result"
    }
   ],
   "source": [
    "makes_to_delete = makes_count[makes_count < 1000].index\n",
    "\n",
    "#delete companies having dataset less than 1000\n",
    "filtered_df = df[~df['Make'].isin(makes_to_delete)]\n",
    "\n",
    "filtered_df.head()"
   ]
  },
  {
   "cell_type": "markdown",
   "metadata": {},
   "source": [
    "We have 52 unique values under made column. which will add more dimentionality to dataset so in order to decrease dimentionality we will take top 10 made companies and add rest to thers."
   ]
  },
  {
   "cell_type": "code",
   "execution_count": 10,
   "metadata": {},
   "outputs": [
    {
     "data": {
      "text/html": [
       "<div>\n",
       "<style scoped>\n",
       "    .dataframe tbody tr th:only-of-type {\n",
       "        vertical-align: middle;\n",
       "    }\n",
       "\n",
       "    .dataframe tbody tr th {\n",
       "        vertical-align: top;\n",
       "    }\n",
       "\n",
       "    .dataframe thead th {\n",
       "        text-align: right;\n",
       "    }\n",
       "</style>\n",
       "<table border=\"1\" class=\"dataframe\">\n",
       "  <thead>\n",
       "    <tr style=\"text-align: right;\">\n",
       "      <th></th>\n",
       "      <th>Make</th>\n",
       "      <th>Year</th>\n",
       "      <th>Mileage</th>\n",
       "      <th>Type</th>\n",
       "      <th>Transmission</th>\n",
       "      <th>CC</th>\n",
       "      <th>Price</th>\n",
       "    </tr>\n",
       "  </thead>\n",
       "  <tbody>\n",
       "    <tr>\n",
       "      <th>0</th>\n",
       "      <td>Honda</td>\n",
       "      <td>2007.0</td>\n",
       "      <td>100,000 km</td>\n",
       "      <td>Petrol</td>\n",
       "      <td>Automatic</td>\n",
       "      <td>1800 cc</td>\n",
       "      <td>PKR 16.5 lacs</td>\n",
       "    </tr>\n",
       "    <tr>\n",
       "      <th>1</th>\n",
       "      <td>Suzuki</td>\n",
       "      <td>2012.0</td>\n",
       "      <td>100,000 km</td>\n",
       "      <td>Petrol</td>\n",
       "      <td>Manual</td>\n",
       "      <td>800 cc</td>\n",
       "      <td>PKR 7 lacs</td>\n",
       "    </tr>\n",
       "    <tr>\n",
       "      <th>2</th>\n",
       "      <td>Honda</td>\n",
       "      <td>1995.0</td>\n",
       "      <td>999 km</td>\n",
       "      <td>Petrol</td>\n",
       "      <td>Manual</td>\n",
       "      <td>1500 cc</td>\n",
       "      <td>PKR 7.6 lacs</td>\n",
       "    </tr>\n",
       "  </tbody>\n",
       "</table>\n",
       "</div>"
      ],
      "text/plain": [
       "     Make    Year     Mileage    Type Transmission       CC          Price\n",
       "0   Honda  2007.0  100,000 km  Petrol    Automatic  1800 cc  PKR 16.5 lacs\n",
       "1  Suzuki  2012.0  100,000 km  Petrol       Manual   800 cc     PKR 7 lacs\n",
       "2   Honda  1995.0      999 km  Petrol       Manual  1500 cc   PKR 7.6 lacs"
      ]
     },
     "execution_count": 10,
     "metadata": {},
     "output_type": "execute_result"
    }
   ],
   "source": [
    "df=filtered_df\n",
    "df.head(3)"
   ]
  },
  {
   "cell_type": "code",
   "execution_count": null,
   "metadata": {},
   "outputs": [],
   "source": [
    "#top_makes = df['Make'].value_counts().nlargest(10).index.tolist()\n",
    "#df['Make'] = df['Make'].apply(lambda x: x if x in top_makes else 'Others')\n",
    "#df.head()\n",
    "\n"
   ]
  },
  {
   "cell_type": "code",
   "execution_count": 11,
   "metadata": {},
   "outputs": [
    {
     "data": {
      "text/plain": [
       "array(['Honda', 'Suzuki', 'Toyota', 'Changan', 'KIA', 'Mitsubishi',\n",
       "       'Nissan', 'Daihatsu', 'Hyundai'], dtype=object)"
      ]
     },
     "execution_count": 11,
     "metadata": {},
     "output_type": "execute_result"
    }
   ],
   "source": [
    "unique_makes = df['Make'].unique()\n",
    "unique_makes"
   ]
  },
  {
   "cell_type": "markdown",
   "metadata": {},
   "source": [
    "We left with 10 Makes with all other companies in others. Plus there is no missing values under Make column."
   ]
  },
  {
   "cell_type": "markdown",
   "metadata": {},
   "source": [
    "# Lets deal with Mileage and CC columns"
   ]
  },
  {
   "cell_type": "code",
   "execution_count": null,
   "metadata": {},
   "outputs": [],
   "source": []
  },
  {
   "cell_type": "markdown",
   "metadata": {},
   "source": [
    "Discard km from Mileage column"
   ]
  },
  {
   "cell_type": "code",
   "execution_count": 12,
   "metadata": {},
   "outputs": [],
   "source": [
    "df['Mileage'] =df['Mileage'].str.replace(',','').str.replace(' km','')\n"
   ]
  },
  {
   "cell_type": "code",
   "execution_count": 13,
   "metadata": {},
   "outputs": [
    {
     "data": {
      "text/plain": [
       "0    100000.0\n",
       "1    100000.0\n",
       "2       999.0\n",
       "Name: Mileage, dtype: float64"
      ]
     },
     "execution_count": 13,
     "metadata": {},
     "output_type": "execute_result"
    }
   ],
   "source": [
    "df['Mileage'].astype(float).head(3)"
   ]
  },
  {
   "cell_type": "markdown",
   "metadata": {},
   "source": [
    "Deal with mission values under Mileage"
   ]
  },
  {
   "cell_type": "code",
   "execution_count": 14,
   "metadata": {},
   "outputs": [],
   "source": [
    "from sklearn.impute import SimpleImputer\n",
    "\n",
    "imp_mean = SimpleImputer(missing_values=np.nan, strategy='mean')\n",
    "\n",
    "df.iloc[:, 2:3]=imp_mean.fit_transform(df.iloc[:, 2:3])"
   ]
  },
  {
   "cell_type": "markdown",
   "metadata": {},
   "source": [
    "Remove cc from CC column values"
   ]
  },
  {
   "cell_type": "code",
   "execution_count": 15,
   "metadata": {},
   "outputs": [],
   "source": [
    "df['CC'] =df['CC'].str.replace(',','').str.replace(' cc','')"
   ]
  },
  {
   "cell_type": "code",
   "execution_count": 16,
   "metadata": {},
   "outputs": [
    {
     "data": {
      "text/html": [
       "<div>\n",
       "<style scoped>\n",
       "    .dataframe tbody tr th:only-of-type {\n",
       "        vertical-align: middle;\n",
       "    }\n",
       "\n",
       "    .dataframe tbody tr th {\n",
       "        vertical-align: top;\n",
       "    }\n",
       "\n",
       "    .dataframe thead th {\n",
       "        text-align: right;\n",
       "    }\n",
       "</style>\n",
       "<table border=\"1\" class=\"dataframe\">\n",
       "  <thead>\n",
       "    <tr style=\"text-align: right;\">\n",
       "      <th></th>\n",
       "      <th>Make</th>\n",
       "      <th>Year</th>\n",
       "      <th>Mileage</th>\n",
       "      <th>Type</th>\n",
       "      <th>Transmission</th>\n",
       "      <th>CC</th>\n",
       "      <th>Price</th>\n",
       "    </tr>\n",
       "  </thead>\n",
       "  <tbody>\n",
       "    <tr>\n",
       "      <th>0</th>\n",
       "      <td>Honda</td>\n",
       "      <td>2007.0</td>\n",
       "      <td>100000.0</td>\n",
       "      <td>Petrol</td>\n",
       "      <td>Automatic</td>\n",
       "      <td>1800</td>\n",
       "      <td>PKR 16.5 lacs</td>\n",
       "    </tr>\n",
       "    <tr>\n",
       "      <th>1</th>\n",
       "      <td>Suzuki</td>\n",
       "      <td>2012.0</td>\n",
       "      <td>100000.0</td>\n",
       "      <td>Petrol</td>\n",
       "      <td>Manual</td>\n",
       "      <td>800</td>\n",
       "      <td>PKR 7 lacs</td>\n",
       "    </tr>\n",
       "    <tr>\n",
       "      <th>2</th>\n",
       "      <td>Honda</td>\n",
       "      <td>1995.0</td>\n",
       "      <td>999.0</td>\n",
       "      <td>Petrol</td>\n",
       "      <td>Manual</td>\n",
       "      <td>1500</td>\n",
       "      <td>PKR 7.6 lacs</td>\n",
       "    </tr>\n",
       "    <tr>\n",
       "      <th>3</th>\n",
       "      <td>Toyota</td>\n",
       "      <td>2013.0</td>\n",
       "      <td>94000.0</td>\n",
       "      <td>Petrol</td>\n",
       "      <td>Automatic</td>\n",
       "      <td>2700</td>\n",
       "      <td>PKR 70 lacs</td>\n",
       "    </tr>\n",
       "    <tr>\n",
       "      <th>4</th>\n",
       "      <td>Suzuki</td>\n",
       "      <td>2015.0</td>\n",
       "      <td>86000.0</td>\n",
       "      <td>Petrol</td>\n",
       "      <td>Manual</td>\n",
       "      <td>796</td>\n",
       "      <td>PKR 8 lacs</td>\n",
       "    </tr>\n",
       "    <tr>\n",
       "      <th>...</th>\n",
       "      <td>...</td>\n",
       "      <td>...</td>\n",
       "      <td>...</td>\n",
       "      <td>...</td>\n",
       "      <td>...</td>\n",
       "      <td>...</td>\n",
       "      <td>...</td>\n",
       "    </tr>\n",
       "    <tr>\n",
       "      <th>89951</th>\n",
       "      <td>Daihatsu</td>\n",
       "      <td>2018.0</td>\n",
       "      <td>65000.0</td>\n",
       "      <td>Petrol</td>\n",
       "      <td>Automatic</td>\n",
       "      <td>660</td>\n",
       "      <td>PKR 30 lacs</td>\n",
       "    </tr>\n",
       "    <tr>\n",
       "      <th>89952</th>\n",
       "      <td>Honda</td>\n",
       "      <td>2017.0</td>\n",
       "      <td>114000.0</td>\n",
       "      <td>Petrol</td>\n",
       "      <td>Automatic</td>\n",
       "      <td>1800</td>\n",
       "      <td>PKR 37.5 lacs</td>\n",
       "    </tr>\n",
       "    <tr>\n",
       "      <th>89953</th>\n",
       "      <td>Toyota</td>\n",
       "      <td>2011.0</td>\n",
       "      <td>152000.0</td>\n",
       "      <td>Petrol</td>\n",
       "      <td>Automatic</td>\n",
       "      <td>1600</td>\n",
       "      <td>PKR 22.35 lacs</td>\n",
       "    </tr>\n",
       "    <tr>\n",
       "      <th>89954</th>\n",
       "      <td>Suzuki</td>\n",
       "      <td>2013.0</td>\n",
       "      <td>104000.0</td>\n",
       "      <td>Petrol</td>\n",
       "      <td>Manual</td>\n",
       "      <td>1300</td>\n",
       "      <td>PKR 15.5 lacs</td>\n",
       "    </tr>\n",
       "    <tr>\n",
       "      <th>89955</th>\n",
       "      <td>Toyota</td>\n",
       "      <td>1996.0</td>\n",
       "      <td>258456.0</td>\n",
       "      <td>Petrol</td>\n",
       "      <td>Manual</td>\n",
       "      <td>1300</td>\n",
       "      <td>PKR 7.3 lacs</td>\n",
       "    </tr>\n",
       "  </tbody>\n",
       "</table>\n",
       "<p>85244 rows × 7 columns</p>\n",
       "</div>"
      ],
      "text/plain": [
       "           Make    Year   Mileage    Type Transmission    CC           Price\n",
       "0         Honda  2007.0  100000.0  Petrol    Automatic  1800   PKR 16.5 lacs\n",
       "1        Suzuki  2012.0  100000.0  Petrol       Manual   800      PKR 7 lacs\n",
       "2         Honda  1995.0     999.0  Petrol       Manual  1500    PKR 7.6 lacs\n",
       "3        Toyota  2013.0   94000.0  Petrol    Automatic  2700     PKR 70 lacs\n",
       "4        Suzuki  2015.0   86000.0  Petrol       Manual   796      PKR 8 lacs\n",
       "...         ...     ...       ...     ...          ...   ...             ...\n",
       "89951  Daihatsu  2018.0   65000.0  Petrol    Automatic   660     PKR 30 lacs\n",
       "89952     Honda  2017.0  114000.0  Petrol    Automatic  1800   PKR 37.5 lacs\n",
       "89953    Toyota  2011.0  152000.0  Petrol    Automatic  1600  PKR 22.35 lacs\n",
       "89954    Suzuki  2013.0  104000.0  Petrol       Manual  1300   PKR 15.5 lacs\n",
       "89955    Toyota  1996.0  258456.0  Petrol       Manual  1300    PKR 7.3 lacs\n",
       "\n",
       "[85244 rows x 7 columns]"
      ]
     },
     "execution_count": 16,
     "metadata": {},
     "output_type": "execute_result"
    }
   ],
   "source": [
    "df=df[~df['CC'].str.contains('kWh', na=False)]\n",
    "df"
   ]
  },
  {
   "cell_type": "code",
   "execution_count": 17,
   "metadata": {},
   "outputs": [
    {
     "data": {
      "text/plain": [
       "0    1800.0\n",
       "1     800.0\n",
       "2    1500.0\n",
       "Name: CC, dtype: float64"
      ]
     },
     "execution_count": 17,
     "metadata": {},
     "output_type": "execute_result"
    }
   ],
   "source": [
    "df['CC'].astype(float).head(3)"
   ]
  },
  {
   "cell_type": "markdown",
   "metadata": {},
   "source": [
    "Deal with mission values under CC"
   ]
  },
  {
   "cell_type": "code",
   "execution_count": 18,
   "metadata": {},
   "outputs": [
    {
     "name": "stderr",
     "output_type": "stream",
     "text": [
      "C:\\Users\\Wasim\\AppData\\Local\\Temp\\ipykernel_5460\\2683452140.py:3: SettingWithCopyWarning: \n",
      "A value is trying to be set on a copy of a slice from a DataFrame.\n",
      "Try using .loc[row_indexer,col_indexer] = value instead\n",
      "\n",
      "See the caveats in the documentation: https://pandas.pydata.org/pandas-docs/stable/user_guide/indexing.html#returning-a-view-versus-a-copy\n",
      "  df.iloc[:, 5:6]=imp_mean.fit_transform(df.iloc[:,5:6])\n"
     ]
    }
   ],
   "source": [
    "imp_mean = SimpleImputer(missing_values=np.nan, strategy='mean')\n",
    "\n",
    "df.iloc[:, 5:6]=imp_mean.fit_transform(df.iloc[:,5:6])"
   ]
  },
  {
   "cell_type": "code",
   "execution_count": 19,
   "metadata": {},
   "outputs": [
    {
     "data": {
      "text/plain": [
       "Make               0\n",
       "Year            2276\n",
       "Mileage            0\n",
       "Type             792\n",
       "Transmission       1\n",
       "CC                 0\n",
       "Price              1\n",
       "dtype: int64"
      ]
     },
     "execution_count": 19,
     "metadata": {},
     "output_type": "execute_result"
    }
   ],
   "source": [
    "df.isna().sum()"
   ]
  },
  {
   "cell_type": "markdown",
   "metadata": {},
   "source": [
    "### Remove outliers from Mileage and CC columns"
   ]
  },
  {
   "cell_type": "code",
   "execution_count": 20,
   "metadata": {},
   "outputs": [
    {
     "data": {
      "text/plain": [
       "<AxesSubplot:xlabel='CC', ylabel='Count'>"
      ]
     },
     "execution_count": 20,
     "metadata": {},
     "output_type": "execute_result"
    },
    {
     "data": {
      "image/png": "[encoded data removed]",
      "text/plain": [
       "<Figure size 1500x700 with 2 Axes>"
      ]
     },
     "metadata": {},
     "output_type": "display_data"
    }
   ],
   "source": [
    "plt.figure(figsize=(15,7))\n",
    "\n",
    "plt.subplot(1,3,1)\n",
    "sns.histplot(df['Mileage'])\n",
    "\n",
    "plt.subplot(1,3,2)\n",
    "sns.histplot(df['CC'])"
   ]
  },
  {
   "cell_type": "code",
   "execution_count": null,
   "metadata": {},
   "outputs": [],
   "source": []
  },
  {
   "cell_type": "code",
   "execution_count": 21,
   "metadata": {},
   "outputs": [],
   "source": [
    "out=df['Mileage'].quantile(0.99)\n",
    "df=df[df['Mileage']<out]\n",
    "\n",
    "out1=df['CC'].quantile(0.99)\n",
    "df=df[df['CC']<out1]"
   ]
  },
  {
   "cell_type": "code",
   "execution_count": 22,
   "metadata": {},
   "outputs": [
    {
     "data": {
      "text/plain": [
       "<AxesSubplot:xlabel='CC', ylabel='Count'>"
      ]
     },
     "execution_count": 22,
     "metadata": {},
     "output_type": "execute_result"
    },
    {
     "data": {
      "image/png": "[encoded data removed]",
      "text/plain": [
       "<Figure size 1800x700 with 2 Axes>"
      ]
     },
     "metadata": {},
     "output_type": "display_data"
    }
   ],
   "source": [
    "plt.figure(figsize=(18,7))\n",
    "\n",
    "plt.subplot(1,3,1)\n",
    "sns.histplot(df['Mileage'])\n",
    "\n",
    "plt.subplot(1,3,2)\n",
    "sns.histplot(df['CC'])"
   ]
  },
  {
   "cell_type": "code",
   "execution_count": null,
   "metadata": {},
   "outputs": [],
   "source": []
  },
  {
   "cell_type": "markdown",
   "metadata": {},
   "source": [
    "# Handle values of Year, Transmission and Type column "
   ]
  },
  {
   "cell_type": "code",
   "execution_count": 23,
   "metadata": {},
   "outputs": [
    {
     "data": {
      "text/plain": [
       "Make               0\n",
       "Year            2106\n",
       "Mileage            0\n",
       "Type             746\n",
       "Transmission       1\n",
       "CC                 0\n",
       "Price              1\n",
       "dtype: int64"
      ]
     },
     "execution_count": 23,
     "metadata": {},
     "output_type": "execute_result"
    }
   ],
   "source": [
    "df.isna().sum()"
   ]
  },
  {
   "cell_type": "code",
   "execution_count": 24,
   "metadata": {},
   "outputs": [],
   "source": [
    "df=df[~df['Year'].isna()]\n",
    "df=df[~df['Type'].isna()]\n"
   ]
  },
  {
   "cell_type": "markdown",
   "metadata": {},
   "source": [
    "We will not change unique valus in Type and Year column because filling missing values in these columns will change the features of cars and our model will get confuse in return."
   ]
  },
  {
   "cell_type": "code",
   "execution_count": 26,
   "metadata": {},
   "outputs": [],
   "source": [
    "\n",
    "#REMOVE YEAR WITH VALUES LESS THAN 100\n",
    "df = df[df['Year'] >= 100]\n",
    "\n"
   ]
  },
  {
   "cell_type": "code",
   "execution_count": 28,
   "metadata": {},
   "outputs": [
    {
     "data": {
      "text/plain": [
       "2022.0    9458\n",
       "2021.0    6013\n",
       "2018.0    5371\n",
       "2017.0    4914\n",
       "2019.0    4187\n",
       "2007.0    3867\n",
       "2015.0    3850\n",
       "2016.0    3708\n",
       "2014.0    3535\n",
       "2012.0    3161\n",
       "2006.0    3117\n",
       "2020.0    3116\n",
       "2013.0    3086\n",
       "2011.0    2981\n",
       "2005.0    2728\n",
       "2010.0    2673\n",
       "2008.0    2345\n",
       "2004.0    1953\n",
       "2009.0    1727\n",
       "2003.0    1440\n",
       "2002.0     907\n",
       "2000.0     815\n",
       "2001.0     766\n",
       "1998.0     691\n",
       "1996.0     677\n",
       "1999.0     648\n",
       "1997.0     616\n",
       "1995.0     563\n",
       "1994.0     440\n",
       "1993.0     383\n",
       "1992.0     363\n",
       "1990.0     302\n",
       "1991.0     281\n",
       "Name: Year, dtype: int64"
      ]
     },
     "execution_count": 28,
     "metadata": {},
     "output_type": "execute_result"
    }
   ],
   "source": [
    "year = df['Year'].value_counts()\n",
    "year"
   ]
  },
  {
   "cell_type": "code",
   "execution_count": 29,
   "metadata": {},
   "outputs": [
    {
     "data": {
      "text/plain": [
       "Petrol    74776\n",
       "Diesel     3147\n",
       "Hybrid     2759\n",
       "Name: Type, dtype: int64"
      ]
     },
     "execution_count": 29,
     "metadata": {},
     "output_type": "execute_result"
    }
   ],
   "source": [
    "Type= df['Type'].value_counts()\n",
    "Type"
   ]
  },
  {
   "cell_type": "code",
   "execution_count": 30,
   "metadata": {},
   "outputs": [
    {
     "data": {
      "text/plain": [
       "Automatic    41909\n",
       "Manual       38773\n",
       "Name: Transmission, dtype: int64"
      ]
     },
     "execution_count": 30,
     "metadata": {},
     "output_type": "execute_result"
    }
   ],
   "source": [
    "Transmission= df['Transmission'].value_counts()\n",
    "Transmission"
   ]
  },
  {
   "cell_type": "markdown",
   "metadata": {},
   "source": [
    "# Handle values under Price column"
   ]
  },
  {
   "cell_type": "code",
   "execution_count": null,
   "metadata": {},
   "outputs": [],
   "source": [
    "df['Price'].unique"
   ]
  },
  {
   "cell_type": "markdown",
   "metadata": {},
   "source": [
    "We have values in lacs and crore. Lets convert them all to lacks."
   ]
  },
  {
   "cell_type": "code",
   "execution_count": 31,
   "metadata": {},
   "outputs": [],
   "source": [
    "df = df[df.Price != 'Call for price'] #remove values with no price\n"
   ]
  },
  {
   "cell_type": "code",
   "execution_count": 32,
   "metadata": {},
   "outputs": [],
   "source": [
    "import pandas as pd\n",
    "\n",
    "def convert_to_numeric_pkr(value):\n",
    "    parts = value.split()\n",
    "    numeric_value = float(parts[1])\n",
    "    \n",
    "    if \"lacs\" in value:\n",
    "        numeric_value *= 100000  # 1 lakh = 100,000\n",
    "    elif \"crore\" in value:\n",
    "        numeric_value *= 10000000  # 1 crore = 10,000,000\n",
    "    \n",
    "    return numeric_value\n",
    "\n",
    "df['Price'] = df['Price'].apply(convert_to_numeric_pkr)\n",
    "\n",
    "\n"
   ]
  },
  {
   "cell_type": "code",
   "execution_count": 33,
   "metadata": {},
   "outputs": [
    {
     "name": "stdout",
     "output_type": "stream",
     "text": [
      "0    1650000.0\n",
      "1     700000.0\n",
      "2     760000.0\n",
      "Name: Price, dtype: float64\n"
     ]
    }
   ],
   "source": [
    "print(df['Price'].astype(float).head(3))"
   ]
  },
  {
   "cell_type": "code",
   "execution_count": 34,
   "metadata": {},
   "outputs": [
    {
     "data": {
      "text/html": [
       "<div>\n",
       "<style scoped>\n",
       "    .dataframe tbody tr th:only-of-type {\n",
       "        vertical-align: middle;\n",
       "    }\n",
       "\n",
       "    .dataframe tbody tr th {\n",
       "        vertical-align: top;\n",
       "    }\n",
       "\n",
       "    .dataframe thead th {\n",
       "        text-align: right;\n",
       "    }\n",
       "</style>\n",
       "<table border=\"1\" class=\"dataframe\">\n",
       "  <thead>\n",
       "    <tr style=\"text-align: right;\">\n",
       "      <th></th>\n",
       "      <th>Make</th>\n",
       "      <th>Year</th>\n",
       "      <th>Mileage</th>\n",
       "      <th>Type</th>\n",
       "      <th>Transmission</th>\n",
       "      <th>CC</th>\n",
       "      <th>Price</th>\n",
       "    </tr>\n",
       "  </thead>\n",
       "  <tbody>\n",
       "    <tr>\n",
       "      <th>3</th>\n",
       "      <td>Toyota</td>\n",
       "      <td>2013.0</td>\n",
       "      <td>94000.0</td>\n",
       "      <td>Petrol</td>\n",
       "      <td>Automatic</td>\n",
       "      <td>2700.0</td>\n",
       "      <td>7000000.0</td>\n",
       "    </tr>\n",
       "    <tr>\n",
       "      <th>14</th>\n",
       "      <td>Toyota</td>\n",
       "      <td>2022.0</td>\n",
       "      <td>50.0</td>\n",
       "      <td>Diesel</td>\n",
       "      <td>Automatic</td>\n",
       "      <td>2800.0</td>\n",
       "      <td>11500000.0</td>\n",
       "    </tr>\n",
       "    <tr>\n",
       "      <th>22</th>\n",
       "      <td>Honda</td>\n",
       "      <td>2017.0</td>\n",
       "      <td>38603.0</td>\n",
       "      <td>Petrol</td>\n",
       "      <td>Automatic</td>\n",
       "      <td>2400.0</td>\n",
       "      <td>9075000.0</td>\n",
       "    </tr>\n",
       "    <tr>\n",
       "      <th>28</th>\n",
       "      <td>Toyota</td>\n",
       "      <td>2016.0</td>\n",
       "      <td>9000.0</td>\n",
       "      <td>Petrol</td>\n",
       "      <td>Automatic</td>\n",
       "      <td>3500.0</td>\n",
       "      <td>13500000.0</td>\n",
       "    </tr>\n",
       "    <tr>\n",
       "      <th>36</th>\n",
       "      <td>Honda</td>\n",
       "      <td>2019.0</td>\n",
       "      <td>45000.0</td>\n",
       "      <td>Petrol</td>\n",
       "      <td>Automatic</td>\n",
       "      <td>1500.0</td>\n",
       "      <td>10500000.0</td>\n",
       "    </tr>\n",
       "    <tr>\n",
       "      <th>...</th>\n",
       "      <td>...</td>\n",
       "      <td>...</td>\n",
       "      <td>...</td>\n",
       "      <td>...</td>\n",
       "      <td>...</td>\n",
       "      <td>...</td>\n",
       "      <td>...</td>\n",
       "    </tr>\n",
       "    <tr>\n",
       "      <th>89670</th>\n",
       "      <td>Hyundai</td>\n",
       "      <td>2022.0</td>\n",
       "      <td>1.0</td>\n",
       "      <td>Petrol</td>\n",
       "      <td>Automatic</td>\n",
       "      <td>2000.0</td>\n",
       "      <td>7600000.0</td>\n",
       "    </tr>\n",
       "    <tr>\n",
       "      <th>89695</th>\n",
       "      <td>Toyota</td>\n",
       "      <td>2020.0</td>\n",
       "      <td>45000.0</td>\n",
       "      <td>Diesel</td>\n",
       "      <td>Automatic</td>\n",
       "      <td>2800.0</td>\n",
       "      <td>12200000.0</td>\n",
       "    </tr>\n",
       "    <tr>\n",
       "      <th>89712</th>\n",
       "      <td>Toyota</td>\n",
       "      <td>2022.0</td>\n",
       "      <td>3900.0</td>\n",
       "      <td>Diesel</td>\n",
       "      <td>Automatic</td>\n",
       "      <td>2800.0</td>\n",
       "      <td>12700000.0</td>\n",
       "    </tr>\n",
       "    <tr>\n",
       "      <th>89771</th>\n",
       "      <td>Toyota</td>\n",
       "      <td>2022.0</td>\n",
       "      <td>2000.0</td>\n",
       "      <td>Diesel</td>\n",
       "      <td>Automatic</td>\n",
       "      <td>2800.0</td>\n",
       "      <td>22000000.0</td>\n",
       "    </tr>\n",
       "    <tr>\n",
       "      <th>89848</th>\n",
       "      <td>Toyota</td>\n",
       "      <td>2019.0</td>\n",
       "      <td>56000.0</td>\n",
       "      <td>Diesel</td>\n",
       "      <td>Automatic</td>\n",
       "      <td>2800.0</td>\n",
       "      <td>8500000.0</td>\n",
       "    </tr>\n",
       "  </tbody>\n",
       "</table>\n",
       "<p>4521 rows × 7 columns</p>\n",
       "</div>"
      ],
      "text/plain": [
       "          Make    Year  Mileage    Type Transmission      CC       Price\n",
       "3       Toyota  2013.0  94000.0  Petrol    Automatic  2700.0   7000000.0\n",
       "14      Toyota  2022.0     50.0  Diesel    Automatic  2800.0  11500000.0\n",
       "22       Honda  2017.0  38603.0  Petrol    Automatic  2400.0   9075000.0\n",
       "28      Toyota  2016.0   9000.0  Petrol    Automatic  3500.0  13500000.0\n",
       "36       Honda  2019.0  45000.0  Petrol    Automatic  1500.0  10500000.0\n",
       "...        ...     ...      ...     ...          ...     ...         ...\n",
       "89670  Hyundai  2022.0      1.0  Petrol    Automatic  2000.0   7600000.0\n",
       "89695   Toyota  2020.0  45000.0  Diesel    Automatic  2800.0  12200000.0\n",
       "89712   Toyota  2022.0   3900.0  Diesel    Automatic  2800.0  12700000.0\n",
       "89771   Toyota  2022.0   2000.0  Diesel    Automatic  2800.0  22000000.0\n",
       "89848   Toyota  2019.0  56000.0  Diesel    Automatic  2800.0   8500000.0\n",
       "\n",
       "[4521 rows x 7 columns]"
      ]
     },
     "execution_count": 34,
     "metadata": {},
     "output_type": "execute_result"
    }
   ],
   "source": [
    "Q1 = df['Price'].quantile(0.25)\n",
    "Q3 = df['Price'].quantile(0.75)\n",
    "IQR = Q3 - Q1\n",
    "lower_bound = Q1 - 1.5 * IQR\n",
    "upper_bound = Q3 + 1.5 * IQR\n",
    "\n",
    "outliers = df[(df['Price'] < lower_bound) | (df['Price'] > upper_bound)]\n",
    "outliers\n"
   ]
  },
  {
   "cell_type": "code",
   "execution_count": 35,
   "metadata": {},
   "outputs": [
    {
     "data": {
      "text/plain": [
       "<AxesSubplot:xlabel='Price', ylabel='Count'>"
      ]
     },
     "execution_count": 35,
     "metadata": {},
     "output_type": "execute_result"
    },
    {
     "data": {
      "image/png": "[encoded data removed]",
      "text/plain": [
       "<Figure size 640x480 with 1 Axes>"
      ]
     },
     "metadata": {},
     "output_type": "display_data"
    }
   ],
   "source": [
    "sns.histplot(data=df, x='Price')"
   ]
  },
  {
   "cell_type": "code",
   "execution_count": 39,
   "metadata": {},
   "outputs": [],
   "source": [
    "out=df['Price'].quantile(0.99)\n",
    "df=df[df['Price']<out]"
   ]
  },
  {
   "cell_type": "code",
   "execution_count": 40,
   "metadata": {},
   "outputs": [
    {
     "data": {
      "text/plain": [
       "<AxesSubplot:xlabel='Price', ylabel='Count'>"
      ]
     },
     "execution_count": 40,
     "metadata": {},
     "output_type": "execute_result"
    },
    {
     "data": {
      "image/png": "[encoded data removed]",
      "text/plain": [
       "<Figure size 640x480 with 1 Axes>"
      ]
     },
     "metadata": {},
     "output_type": "display_data"
    }
   ],
   "source": [
    "sns.histplot(data=df, x='Price')"
   ]
  },
  {
   "cell_type": "code",
   "execution_count": 41,
   "metadata": {},
   "outputs": [
    {
     "data": {
      "text/html": [
       "<div>\n",
       "<style scoped>\n",
       "    .dataframe tbody tr th:only-of-type {\n",
       "        vertical-align: middle;\n",
       "    }\n",
       "\n",
       "    .dataframe tbody tr th {\n",
       "        vertical-align: top;\n",
       "    }\n",
       "\n",
       "    .dataframe thead th {\n",
       "        text-align: right;\n",
       "    }\n",
       "</style>\n",
       "<table border=\"1\" class=\"dataframe\">\n",
       "  <thead>\n",
       "    <tr style=\"text-align: right;\">\n",
       "      <th></th>\n",
       "      <th>Make</th>\n",
       "      <th>Year</th>\n",
       "      <th>Mileage</th>\n",
       "      <th>Type</th>\n",
       "      <th>Transmission</th>\n",
       "      <th>CC</th>\n",
       "      <th>Price</th>\n",
       "    </tr>\n",
       "  </thead>\n",
       "  <tbody>\n",
       "    <tr>\n",
       "      <th>0</th>\n",
       "      <td>Honda</td>\n",
       "      <td>2007.0</td>\n",
       "      <td>100000.0</td>\n",
       "      <td>Petrol</td>\n",
       "      <td>Automatic</td>\n",
       "      <td>1800.0</td>\n",
       "      <td>1650000.0</td>\n",
       "    </tr>\n",
       "    <tr>\n",
       "      <th>1</th>\n",
       "      <td>Suzuki</td>\n",
       "      <td>2012.0</td>\n",
       "      <td>100000.0</td>\n",
       "      <td>Petrol</td>\n",
       "      <td>Manual</td>\n",
       "      <td>800.0</td>\n",
       "      <td>700000.0</td>\n",
       "    </tr>\n",
       "    <tr>\n",
       "      <th>2</th>\n",
       "      <td>Honda</td>\n",
       "      <td>1995.0</td>\n",
       "      <td>999.0</td>\n",
       "      <td>Petrol</td>\n",
       "      <td>Manual</td>\n",
       "      <td>1500.0</td>\n",
       "      <td>760000.0</td>\n",
       "    </tr>\n",
       "    <tr>\n",
       "      <th>4</th>\n",
       "      <td>Suzuki</td>\n",
       "      <td>2015.0</td>\n",
       "      <td>86000.0</td>\n",
       "      <td>Petrol</td>\n",
       "      <td>Manual</td>\n",
       "      <td>796.0</td>\n",
       "      <td>800000.0</td>\n",
       "    </tr>\n",
       "    <tr>\n",
       "      <th>5</th>\n",
       "      <td>Toyota</td>\n",
       "      <td>2012.0</td>\n",
       "      <td>85000.0</td>\n",
       "      <td>Petrol</td>\n",
       "      <td>Automatic</td>\n",
       "      <td>1600.0</td>\n",
       "      <td>2550000.0</td>\n",
       "    </tr>\n",
       "  </tbody>\n",
       "</table>\n",
       "</div>"
      ],
      "text/plain": [
       "     Make    Year   Mileage    Type Transmission      CC      Price\n",
       "0   Honda  2007.0  100000.0  Petrol    Automatic  1800.0  1650000.0\n",
       "1  Suzuki  2012.0  100000.0  Petrol       Manual   800.0   700000.0\n",
       "2   Honda  1995.0     999.0  Petrol       Manual  1500.0   760000.0\n",
       "4  Suzuki  2015.0   86000.0  Petrol       Manual   796.0   800000.0\n",
       "5  Toyota  2012.0   85000.0  Petrol    Automatic  1600.0  2550000.0"
      ]
     },
     "execution_count": 41,
     "metadata": {},
     "output_type": "execute_result"
    }
   ],
   "source": [
    "df.head()"
   ]
  },
  {
   "cell_type": "code",
   "execution_count": 42,
   "metadata": {},
   "outputs": [
    {
     "name": "stdout",
     "output_type": "stream",
     "text": [
      "<class 'pandas.core.frame.DataFrame'>\n",
      "Int64Index: 62625 entries, 0 to 89955\n",
      "Data columns (total 7 columns):\n",
      " #   Column        Non-Null Count  Dtype  \n",
      "---  ------        --------------  -----  \n",
      " 0   Make          62625 non-null  object \n",
      " 1   Year          62625 non-null  float64\n",
      " 2   Mileage       62625 non-null  float64\n",
      " 3   Type          62625 non-null  object \n",
      " 4   Transmission  62625 non-null  object \n",
      " 5   CC            62625 non-null  float64\n",
      " 6   Price         62625 non-null  float64\n",
      "dtypes: float64(4), object(3)\n",
      "memory usage: 3.8+ MB\n"
     ]
    }
   ],
   "source": [
    "df.info()"
   ]
  },
  {
   "cell_type": "markdown",
   "metadata": {},
   "source": [
    "Lets save this cleaned dataset."
   ]
  },
  {
   "cell_type": "markdown",
   "metadata": {},
   "source": [
    "# Holdout Set"
   ]
  },
  {
   "cell_type": "code",
   "execution_count": 43,
   "metadata": {},
   "outputs": [
    {
     "name": "stdout",
     "output_type": "stream",
     "text": [
      "Data split and saved to train.csv and test.csv.\n"
     ]
    }
   ],
   "source": [
    "from sklearn.model_selection import train_test_split\n",
    "\n",
    "train_df, hold_df = train_test_split(df, test_size=0.2, random_state=42)\n",
    "\n",
    "# Save the train and test DataFrames to CSV files\n",
    "train_df.to_csv('train.csv', index=False)\n",
    "hold_df.to_csv('test.csv', index=False)\n",
    "\n",
    "print(\"Data split and saved to train.csv and test.csv.\")"
   ]
  },
  {
   "cell_type": "code",
   "execution_count": 44,
   "metadata": {},
   "outputs": [
    {
     "name": "stdout",
     "output_type": "stream",
     "text": [
      "(50100, 7)\n",
      "(12525, 7)\n"
     ]
    }
   ],
   "source": [
    "print(train_df.shape)\n",
    "print(hold_df.shape)"
   ]
  },
  {
   "cell_type": "markdown",
   "metadata": {},
   "source": [
    "# Read Dataset"
   ]
  },
  {
   "cell_type": "code",
   "execution_count": 45,
   "metadata": {},
   "outputs": [
    {
     "data": {
      "text/html": [
       "<div>\n",
       "<style scoped>\n",
       "    .dataframe tbody tr th:only-of-type {\n",
       "        vertical-align: middle;\n",
       "    }\n",
       "\n",
       "    .dataframe tbody tr th {\n",
       "        vertical-align: top;\n",
       "    }\n",
       "\n",
       "    .dataframe thead th {\n",
       "        text-align: right;\n",
       "    }\n",
       "</style>\n",
       "<table border=\"1\" class=\"dataframe\">\n",
       "  <thead>\n",
       "    <tr style=\"text-align: right;\">\n",
       "      <th></th>\n",
       "      <th>Make</th>\n",
       "      <th>Year</th>\n",
       "      <th>Mileage</th>\n",
       "      <th>Type</th>\n",
       "      <th>Transmission</th>\n",
       "      <th>CC</th>\n",
       "      <th>Price</th>\n",
       "    </tr>\n",
       "  </thead>\n",
       "  <tbody>\n",
       "    <tr>\n",
       "      <th>0</th>\n",
       "      <td>Toyota</td>\n",
       "      <td>1997.0</td>\n",
       "      <td>60000.0</td>\n",
       "      <td>Petrol</td>\n",
       "      <td>Automatic</td>\n",
       "      <td>3400.0</td>\n",
       "      <td>3600000.0</td>\n",
       "    </tr>\n",
       "    <tr>\n",
       "      <th>1</th>\n",
       "      <td>Suzuki</td>\n",
       "      <td>2012.0</td>\n",
       "      <td>100000.0</td>\n",
       "      <td>Petrol</td>\n",
       "      <td>Manual</td>\n",
       "      <td>800.0</td>\n",
       "      <td>525000.0</td>\n",
       "    </tr>\n",
       "    <tr>\n",
       "      <th>2</th>\n",
       "      <td>Honda</td>\n",
       "      <td>2017.0</td>\n",
       "      <td>93000.0</td>\n",
       "      <td>Petrol</td>\n",
       "      <td>Manual</td>\n",
       "      <td>1300.0</td>\n",
       "      <td>2630000.0</td>\n",
       "    </tr>\n",
       "    <tr>\n",
       "      <th>3</th>\n",
       "      <td>Honda</td>\n",
       "      <td>2006.0</td>\n",
       "      <td>160000.0</td>\n",
       "      <td>Petrol</td>\n",
       "      <td>Manual</td>\n",
       "      <td>1300.0</td>\n",
       "      <td>1285000.0</td>\n",
       "    </tr>\n",
       "    <tr>\n",
       "      <th>4</th>\n",
       "      <td>Suzuki</td>\n",
       "      <td>2007.0</td>\n",
       "      <td>100000.0</td>\n",
       "      <td>Petrol</td>\n",
       "      <td>Manual</td>\n",
       "      <td>800.0</td>\n",
       "      <td>550000.0</td>\n",
       "    </tr>\n",
       "  </tbody>\n",
       "</table>\n",
       "</div>"
      ],
      "text/plain": [
       "     Make    Year   Mileage    Type Transmission      CC      Price\n",
       "0  Toyota  1997.0   60000.0  Petrol    Automatic  3400.0  3600000.0\n",
       "1  Suzuki  2012.0  100000.0  Petrol       Manual   800.0   525000.0\n",
       "2   Honda  2017.0   93000.0  Petrol       Manual  1300.0  2630000.0\n",
       "3   Honda  2006.0  160000.0  Petrol       Manual  1300.0  1285000.0\n",
       "4  Suzuki  2007.0  100000.0  Petrol       Manual   800.0   550000.0"
      ]
     },
     "execution_count": 45,
     "metadata": {},
     "output_type": "execute_result"
    }
   ],
   "source": [
    "df = pd.read_csv(r'C:\\Users\\Wasim\\train.csv')\n",
    "df.head()"
   ]
  },
  {
   "cell_type": "markdown",
   "metadata": {
    "colab": {
     "base_uri": "https://localhost:8080/",
     "height": 449
    },
    "id": "Loei9msta8a5",
    "outputId": "5b02e6a3-bfcf-4f4d-b079-e39852a224b6"
   },
   "source": [
    "# ENCODING\n",
    "\n",
    "Label encoder: Output\n",
    "\n",
    "Ordinal encoder:Ordinal features\n",
    "\n",
    "One hot encoder:Nominal features"
   ]
  },
  {
   "cell_type": "code",
   "execution_count": 46,
   "metadata": {
    "id": "NTHLDzhJ9h_d"
   },
   "outputs": [],
   "source": [
    "from sklearn.preprocessing import OneHotEncoder,LabelEncoder,OrdinalEncoder  #fit of train and transform on train & test data\n",
    "\n",
    " \n",
    "le = LabelEncoder()\n",
    "df['Make']=le.fit_transform(df['Make'])\n",
    "\n",
    "le = LabelEncoder()\n",
    "df['Year']=le.fit_transform(df['Year'])\n",
    "\n",
    "#label encode make\n",
    "\n"
   ]
  },
  {
   "cell_type": "code",
   "execution_count": 47,
   "metadata": {},
   "outputs": [],
   "source": [
    "#type_trans = df.iloc[:, 3:5]\n",
    "#print(type_trans)\n",
    "#ohe = OneHotEncoder(drop='first',sparse=False,dtype=np.int32)"
   ]
  },
  {
   "cell_type": "code",
   "execution_count": 48,
   "metadata": {},
   "outputs": [
    {
     "data": {
      "text/html": [
       "<div>\n",
       "<style scoped>\n",
       "    .dataframe tbody tr th:only-of-type {\n",
       "        vertical-align: middle;\n",
       "    }\n",
       "\n",
       "    .dataframe tbody tr th {\n",
       "        vertical-align: top;\n",
       "    }\n",
       "\n",
       "    .dataframe thead th {\n",
       "        text-align: right;\n",
       "    }\n",
       "</style>\n",
       "<table border=\"1\" class=\"dataframe\">\n",
       "  <thead>\n",
       "    <tr style=\"text-align: right;\">\n",
       "      <th></th>\n",
       "      <th>Type_Hybrid</th>\n",
       "      <th>Type_Petrol</th>\n",
       "      <th>Transmission_Manual</th>\n",
       "    </tr>\n",
       "  </thead>\n",
       "  <tbody>\n",
       "    <tr>\n",
       "      <th>0</th>\n",
       "      <td>0</td>\n",
       "      <td>1</td>\n",
       "      <td>0</td>\n",
       "    </tr>\n",
       "    <tr>\n",
       "      <th>1</th>\n",
       "      <td>0</td>\n",
       "      <td>1</td>\n",
       "      <td>1</td>\n",
       "    </tr>\n",
       "    <tr>\n",
       "      <th>2</th>\n",
       "      <td>0</td>\n",
       "      <td>1</td>\n",
       "      <td>1</td>\n",
       "    </tr>\n",
       "    <tr>\n",
       "      <th>3</th>\n",
       "      <td>0</td>\n",
       "      <td>1</td>\n",
       "      <td>1</td>\n",
       "    </tr>\n",
       "    <tr>\n",
       "      <th>4</th>\n",
       "      <td>0</td>\n",
       "      <td>1</td>\n",
       "      <td>1</td>\n",
       "    </tr>\n",
       "    <tr>\n",
       "      <th>...</th>\n",
       "      <td>...</td>\n",
       "      <td>...</td>\n",
       "      <td>...</td>\n",
       "    </tr>\n",
       "    <tr>\n",
       "      <th>50095</th>\n",
       "      <td>0</td>\n",
       "      <td>1</td>\n",
       "      <td>1</td>\n",
       "    </tr>\n",
       "    <tr>\n",
       "      <th>50096</th>\n",
       "      <td>0</td>\n",
       "      <td>1</td>\n",
       "      <td>1</td>\n",
       "    </tr>\n",
       "    <tr>\n",
       "      <th>50097</th>\n",
       "      <td>0</td>\n",
       "      <td>1</td>\n",
       "      <td>0</td>\n",
       "    </tr>\n",
       "    <tr>\n",
       "      <th>50098</th>\n",
       "      <td>0</td>\n",
       "      <td>1</td>\n",
       "      <td>0</td>\n",
       "    </tr>\n",
       "    <tr>\n",
       "      <th>50099</th>\n",
       "      <td>0</td>\n",
       "      <td>1</td>\n",
       "      <td>1</td>\n",
       "    </tr>\n",
       "  </tbody>\n",
       "</table>\n",
       "<p>50100 rows × 3 columns</p>\n",
       "</div>"
      ],
      "text/plain": [
       "       Type_Hybrid  Type_Petrol  Transmission_Manual\n",
       "0                0            1                    0\n",
       "1                0            1                    1\n",
       "2                0            1                    1\n",
       "3                0            1                    1\n",
       "4                0            1                    1\n",
       "...            ...          ...                  ...\n",
       "50095            0            1                    1\n",
       "50096            0            1                    1\n",
       "50097            0            1                    0\n",
       "50098            0            1                    0\n",
       "50099            0            1                    1\n",
       "\n",
       "[50100 rows x 3 columns]"
      ]
     },
     "execution_count": 48,
     "metadata": {},
     "output_type": "execute_result"
    }
   ],
   "source": [
    "#columnsdata=['Type1','Type2','Transmission']\n",
    "#encoded_features = pd.DataFrame(data=ohe.fit_transform(type_trans), columns = columnsdata)\n",
    "#encoded_features\n",
    "type_trans = df.iloc[:, 3:5]\n",
    "\n",
    "pd.get_dummies(data=type_trans,drop_first=True)\n"
   ]
  },
  {
   "cell_type": "code",
   "execution_count": 49,
   "metadata": {},
   "outputs": [],
   "source": [
    "df=pd.get_dummies(data=df, columns=['Type', 'Transmission'], drop_first=True)\n"
   ]
  },
  {
   "cell_type": "code",
   "execution_count": 50,
   "metadata": {},
   "outputs": [],
   "source": [
    "#df = df.drop(columns=['Type', 'Transmission'])"
   ]
  },
  {
   "cell_type": "code",
   "execution_count": 51,
   "metadata": {},
   "outputs": [
    {
     "data": {
      "text/html": [
       "<div>\n",
       "<style scoped>\n",
       "    .dataframe tbody tr th:only-of-type {\n",
       "        vertical-align: middle;\n",
       "    }\n",
       "\n",
       "    .dataframe tbody tr th {\n",
       "        vertical-align: top;\n",
       "    }\n",
       "\n",
       "    .dataframe thead th {\n",
       "        text-align: right;\n",
       "    }\n",
       "</style>\n",
       "<table border=\"1\" class=\"dataframe\">\n",
       "  <thead>\n",
       "    <tr style=\"text-align: right;\">\n",
       "      <th></th>\n",
       "      <th>Make</th>\n",
       "      <th>Year</th>\n",
       "      <th>Mileage</th>\n",
       "      <th>CC</th>\n",
       "      <th>Price</th>\n",
       "      <th>Type_Hybrid</th>\n",
       "      <th>Type_Petrol</th>\n",
       "      <th>Transmission_Manual</th>\n",
       "    </tr>\n",
       "  </thead>\n",
       "  <tbody>\n",
       "    <tr>\n",
       "      <th>0</th>\n",
       "      <td>8</td>\n",
       "      <td>7</td>\n",
       "      <td>60000.0</td>\n",
       "      <td>3400.0</td>\n",
       "      <td>3600000.0</td>\n",
       "      <td>0</td>\n",
       "      <td>1</td>\n",
       "      <td>0</td>\n",
       "    </tr>\n",
       "    <tr>\n",
       "      <th>1</th>\n",
       "      <td>7</td>\n",
       "      <td>22</td>\n",
       "      <td>100000.0</td>\n",
       "      <td>800.0</td>\n",
       "      <td>525000.0</td>\n",
       "      <td>0</td>\n",
       "      <td>1</td>\n",
       "      <td>1</td>\n",
       "    </tr>\n",
       "    <tr>\n",
       "      <th>2</th>\n",
       "      <td>2</td>\n",
       "      <td>27</td>\n",
       "      <td>93000.0</td>\n",
       "      <td>1300.0</td>\n",
       "      <td>2630000.0</td>\n",
       "      <td>0</td>\n",
       "      <td>1</td>\n",
       "      <td>1</td>\n",
       "    </tr>\n",
       "    <tr>\n",
       "      <th>3</th>\n",
       "      <td>2</td>\n",
       "      <td>16</td>\n",
       "      <td>160000.0</td>\n",
       "      <td>1300.0</td>\n",
       "      <td>1285000.0</td>\n",
       "      <td>0</td>\n",
       "      <td>1</td>\n",
       "      <td>1</td>\n",
       "    </tr>\n",
       "    <tr>\n",
       "      <th>4</th>\n",
       "      <td>7</td>\n",
       "      <td>17</td>\n",
       "      <td>100000.0</td>\n",
       "      <td>800.0</td>\n",
       "      <td>550000.0</td>\n",
       "      <td>0</td>\n",
       "      <td>1</td>\n",
       "      <td>1</td>\n",
       "    </tr>\n",
       "  </tbody>\n",
       "</table>\n",
       "</div>"
      ],
      "text/plain": [
       "   Make  Year   Mileage      CC      Price  Type_Hybrid  Type_Petrol  \\\n",
       "0     8     7   60000.0  3400.0  3600000.0            0            1   \n",
       "1     7    22  100000.0   800.0   525000.0            0            1   \n",
       "2     2    27   93000.0  1300.0  2630000.0            0            1   \n",
       "3     2    16  160000.0  1300.0  1285000.0            0            1   \n",
       "4     7    17  100000.0   800.0   550000.0            0            1   \n",
       "\n",
       "   Transmission_Manual  \n",
       "0                    0  \n",
       "1                    1  \n",
       "2                    1  \n",
       "3                    1  \n",
       "4                    1  "
      ]
     },
     "execution_count": 51,
     "metadata": {},
     "output_type": "execute_result"
    }
   ],
   "source": [
    "df.head()"
   ]
  },
  {
   "cell_type": "code",
   "execution_count": 52,
   "metadata": {
    "id": "6yT8PAeKAHkn",
    "scrolled": true
   },
   "outputs": [],
   "source": [
    "#encoded_df = pd.concat([df, encoded_features], axis=1)"
   ]
  },
  {
   "cell_type": "code",
   "execution_count": 53,
   "metadata": {},
   "outputs": [],
   "source": [
    "#encoded_df.head()"
   ]
  },
  {
   "cell_type": "code",
   "execution_count": 54,
   "metadata": {},
   "outputs": [
    {
     "data": {
      "text/html": [
       "<div>\n",
       "<style scoped>\n",
       "    .dataframe tbody tr th:only-of-type {\n",
       "        vertical-align: middle;\n",
       "    }\n",
       "\n",
       "    .dataframe tbody tr th {\n",
       "        vertical-align: top;\n",
       "    }\n",
       "\n",
       "    .dataframe thead th {\n",
       "        text-align: right;\n",
       "    }\n",
       "</style>\n",
       "<table border=\"1\" class=\"dataframe\">\n",
       "  <thead>\n",
       "    <tr style=\"text-align: right;\">\n",
       "      <th></th>\n",
       "      <th>Make</th>\n",
       "      <th>Year</th>\n",
       "      <th>Mileage</th>\n",
       "      <th>CC</th>\n",
       "      <th>Price</th>\n",
       "      <th>Type_Hybrid</th>\n",
       "      <th>Type_Petrol</th>\n",
       "      <th>Transmission_Manual</th>\n",
       "    </tr>\n",
       "  </thead>\n",
       "  <tbody>\n",
       "    <tr>\n",
       "      <th>0</th>\n",
       "      <td>8</td>\n",
       "      <td>7</td>\n",
       "      <td>60000.0</td>\n",
       "      <td>3400.0</td>\n",
       "      <td>3600000.0</td>\n",
       "      <td>0</td>\n",
       "      <td>1</td>\n",
       "      <td>0</td>\n",
       "    </tr>\n",
       "    <tr>\n",
       "      <th>1</th>\n",
       "      <td>7</td>\n",
       "      <td>22</td>\n",
       "      <td>100000.0</td>\n",
       "      <td>800.0</td>\n",
       "      <td>525000.0</td>\n",
       "      <td>0</td>\n",
       "      <td>1</td>\n",
       "      <td>1</td>\n",
       "    </tr>\n",
       "    <tr>\n",
       "      <th>2</th>\n",
       "      <td>2</td>\n",
       "      <td>27</td>\n",
       "      <td>93000.0</td>\n",
       "      <td>1300.0</td>\n",
       "      <td>2630000.0</td>\n",
       "      <td>0</td>\n",
       "      <td>1</td>\n",
       "      <td>1</td>\n",
       "    </tr>\n",
       "    <tr>\n",
       "      <th>3</th>\n",
       "      <td>2</td>\n",
       "      <td>16</td>\n",
       "      <td>160000.0</td>\n",
       "      <td>1300.0</td>\n",
       "      <td>1285000.0</td>\n",
       "      <td>0</td>\n",
       "      <td>1</td>\n",
       "      <td>1</td>\n",
       "    </tr>\n",
       "    <tr>\n",
       "      <th>4</th>\n",
       "      <td>7</td>\n",
       "      <td>17</td>\n",
       "      <td>100000.0</td>\n",
       "      <td>800.0</td>\n",
       "      <td>550000.0</td>\n",
       "      <td>0</td>\n",
       "      <td>1</td>\n",
       "      <td>1</td>\n",
       "    </tr>\n",
       "    <tr>\n",
       "      <th>...</th>\n",
       "      <td>...</td>\n",
       "      <td>...</td>\n",
       "      <td>...</td>\n",
       "      <td>...</td>\n",
       "      <td>...</td>\n",
       "      <td>...</td>\n",
       "      <td>...</td>\n",
       "      <td>...</td>\n",
       "    </tr>\n",
       "    <tr>\n",
       "      <th>50095</th>\n",
       "      <td>7</td>\n",
       "      <td>22</td>\n",
       "      <td>65000.0</td>\n",
       "      <td>800.0</td>\n",
       "      <td>780000.0</td>\n",
       "      <td>0</td>\n",
       "      <td>1</td>\n",
       "      <td>1</td>\n",
       "    </tr>\n",
       "    <tr>\n",
       "      <th>50096</th>\n",
       "      <td>7</td>\n",
       "      <td>27</td>\n",
       "      <td>36000.0</td>\n",
       "      <td>660.0</td>\n",
       "      <td>2350000.0</td>\n",
       "      <td>0</td>\n",
       "      <td>1</td>\n",
       "      <td>1</td>\n",
       "    </tr>\n",
       "    <tr>\n",
       "      <th>50097</th>\n",
       "      <td>2</td>\n",
       "      <td>19</td>\n",
       "      <td>124000.0</td>\n",
       "      <td>1800.0</td>\n",
       "      <td>2000000.0</td>\n",
       "      <td>0</td>\n",
       "      <td>1</td>\n",
       "      <td>0</td>\n",
       "    </tr>\n",
       "    <tr>\n",
       "      <th>50098</th>\n",
       "      <td>2</td>\n",
       "      <td>18</td>\n",
       "      <td>120000.0</td>\n",
       "      <td>1800.0</td>\n",
       "      <td>1580000.0</td>\n",
       "      <td>0</td>\n",
       "      <td>1</td>\n",
       "      <td>0</td>\n",
       "    </tr>\n",
       "    <tr>\n",
       "      <th>50099</th>\n",
       "      <td>7</td>\n",
       "      <td>22</td>\n",
       "      <td>84000.0</td>\n",
       "      <td>1000.0</td>\n",
       "      <td>930000.0</td>\n",
       "      <td>0</td>\n",
       "      <td>1</td>\n",
       "      <td>1</td>\n",
       "    </tr>\n",
       "  </tbody>\n",
       "</table>\n",
       "<p>50100 rows × 8 columns</p>\n",
       "</div>"
      ],
      "text/plain": [
       "       Make  Year   Mileage      CC      Price  Type_Hybrid  Type_Petrol  \\\n",
       "0         8     7   60000.0  3400.0  3600000.0            0            1   \n",
       "1         7    22  100000.0   800.0   525000.0            0            1   \n",
       "2         2    27   93000.0  1300.0  2630000.0            0            1   \n",
       "3         2    16  160000.0  1300.0  1285000.0            0            1   \n",
       "4         7    17  100000.0   800.0   550000.0            0            1   \n",
       "...     ...   ...       ...     ...        ...          ...          ...   \n",
       "50095     7    22   65000.0   800.0   780000.0            0            1   \n",
       "50096     7    27   36000.0   660.0  2350000.0            0            1   \n",
       "50097     2    19  124000.0  1800.0  2000000.0            0            1   \n",
       "50098     2    18  120000.0  1800.0  1580000.0            0            1   \n",
       "50099     7    22   84000.0  1000.0   930000.0            0            1   \n",
       "\n",
       "       Transmission_Manual  \n",
       "0                        0  \n",
       "1                        1  \n",
       "2                        1  \n",
       "3                        1  \n",
       "4                        1  \n",
       "...                    ...  \n",
       "50095                    1  \n",
       "50096                    1  \n",
       "50097                    0  \n",
       "50098                    0  \n",
       "50099                    1  \n",
       "\n",
       "[50100 rows x 8 columns]"
      ]
     },
     "execution_count": 54,
     "metadata": {},
     "output_type": "execute_result"
    }
   ],
   "source": [
    "\n",
    "df"
   ]
  },
  {
   "cell_type": "markdown",
   "metadata": {},
   "source": [
    "# Feature scaling"
   ]
  },
  {
   "cell_type": "code",
   "execution_count": 55,
   "metadata": {},
   "outputs": [
    {
     "data": {
      "text/plain": [
       "<AxesSubplot:xlabel='CC', ylabel='Count'>"
      ]
     },
     "execution_count": 55,
     "metadata": {},
     "output_type": "execute_result"
    },
    {
     "data": {
      "image/png": "[encoded data removed]",
      "text/plain": [
       "<Figure size 1800x700 with 3 Axes>"
      ]
     },
     "metadata": {},
     "output_type": "display_data"
    }
   ],
   "source": [
    "#check distributions of dataset first.\n",
    "plt.figure(figsize=(18,7))\n",
    "\n",
    "plt.subplot(1,3,1)\n",
    "sns.histplot(df['Mileage'])\n",
    "\n",
    "plt.subplot(1,3,2)\n",
    "sns.histplot(df['Price'])\n",
    "\n",
    "plt.subplot(1,3,3)\n",
    "sns.histplot(df['CC'])"
   ]
  },
  {
   "cell_type": "code",
   "execution_count": 56,
   "metadata": {},
   "outputs": [],
   "source": [
    "#skewness - fare column\n",
    "\n",
    "#from sklearn.preprocessing import RobustScaler\n",
    "#r_scaler = RobustScaler()\n",
    "#df.iloc[:,2:5] = r_scaler.fit_transform(df.iloc[:,2:5])\n",
    "\n",
    "\n",
    "from sklearn.preprocessing import StandardScaler\n",
    "s_scaler = StandardScaler()\n",
    "df.iloc[:,2:5] = s_scaler.fit_transform(df.iloc[:,2:5])"
   ]
  },
  {
   "cell_type": "code",
   "execution_count": 57,
   "metadata": {},
   "outputs": [
    {
     "name": "stdout",
     "output_type": "stream",
     "text": [
      "<class 'pandas.core.frame.DataFrame'>\n",
      "RangeIndex: 50100 entries, 0 to 50099\n",
      "Data columns (total 8 columns):\n",
      " #   Column               Non-Null Count  Dtype  \n",
      "---  ------               --------------  -----  \n",
      " 0   Make                 50100 non-null  int32  \n",
      " 1   Year                 50100 non-null  int64  \n",
      " 2   Mileage              50100 non-null  float64\n",
      " 3   CC                   50100 non-null  float64\n",
      " 4   Price                50100 non-null  float64\n",
      " 5   Type_Hybrid          50100 non-null  uint8  \n",
      " 6   Type_Petrol          50100 non-null  uint8  \n",
      " 7   Transmission_Manual  50100 non-null  uint8  \n",
      "dtypes: float64(3), int32(1), int64(1), uint8(3)\n",
      "memory usage: 1.9 MB\n"
     ]
    }
   ],
   "source": [
    "df.info()"
   ]
  },
  {
   "cell_type": "code",
   "execution_count": 58,
   "metadata": {},
   "outputs": [
    {
     "data": {
      "text/plain": [
       "<AxesSubplot:xlabel='CC', ylabel='Count'>"
      ]
     },
     "execution_count": 58,
     "metadata": {},
     "output_type": "execute_result"
    },
    {
     "data": {
      "image/png": "[encoded data removed]",
      "text/plain": [
       "<Figure size 1800x700 with 3 Axes>"
      ]
     },
     "metadata": {},
     "output_type": "display_data"
    }
   ],
   "source": [
    "plt.figure(figsize=(18,7))\n",
    "\n",
    "plt.subplot(1,3,1)\n",
    "sns.histplot(df['Mileage'])\n",
    "\n",
    "plt.subplot(1,3,2)\n",
    "sns.histplot(df['Price'])\n",
    "\n",
    "plt.subplot(1,3,3)\n",
    "sns.histplot(df['CC'])"
   ]
  },
  {
   "cell_type": "code",
   "execution_count": 59,
   "metadata": {},
   "outputs": [],
   "source": [
    "\n",
    "#df['price']=np.log(df['Price'])"
   ]
  },
  {
   "cell_type": "code",
   "execution_count": 60,
   "metadata": {},
   "outputs": [
    {
     "data": {
      "text/plain": [
       "<AxesSubplot:xlabel='Price', ylabel='Count'>"
      ]
     },
     "execution_count": 60,
     "metadata": {},
     "output_type": "execute_result"
    },
    {
     "data": {
      "image/png": "[encoded data removed]",
      "text/plain": [
       "<Figure size 1800x700 with 2 Axes>"
      ]
     },
     "metadata": {},
     "output_type": "display_data"
    }
   ],
   "source": [
    "plt.figure(figsize=(18,7))\n",
    "\n",
    "plt.subplot(1,3,1)\n",
    "sns.histplot(df['Mileage'])\n",
    "\n",
    "plt.subplot(1,3,2)\n",
    "sns.histplot(df['Price'])"
   ]
  },
  {
   "cell_type": "markdown",
   "metadata": {
    "colab": {
     "base_uri": "https://localhost:8080/",
     "height": 75
    },
    "id": "nNymNq4vAYwr",
    "outputId": "292d198c-5445-4c0f-b4f6-f56f892a2390"
   },
   "source": [
    "# Train-Test Split"
   ]
  },
  {
   "cell_type": "code",
   "execution_count": 61,
   "metadata": {},
   "outputs": [
    {
     "data": {
      "text/html": [
       "<div>\n",
       "<style scoped>\n",
       "    .dataframe tbody tr th:only-of-type {\n",
       "        vertical-align: middle;\n",
       "    }\n",
       "\n",
       "    .dataframe tbody tr th {\n",
       "        vertical-align: top;\n",
       "    }\n",
       "\n",
       "    .dataframe thead th {\n",
       "        text-align: right;\n",
       "    }\n",
       "</style>\n",
       "<table border=\"1\" class=\"dataframe\">\n",
       "  <thead>\n",
       "    <tr style=\"text-align: right;\">\n",
       "      <th></th>\n",
       "      <th>Make</th>\n",
       "      <th>Year</th>\n",
       "      <th>Mileage</th>\n",
       "      <th>CC</th>\n",
       "      <th>Price</th>\n",
       "      <th>Type_Hybrid</th>\n",
       "      <th>Type_Petrol</th>\n",
       "      <th>Transmission_Manual</th>\n",
       "    </tr>\n",
       "  </thead>\n",
       "  <tbody>\n",
       "    <tr>\n",
       "      <th>0</th>\n",
       "      <td>8</td>\n",
       "      <td>7</td>\n",
       "      <td>-0.456042</td>\n",
       "      <td>5.211620</td>\n",
       "      <td>1.925801</td>\n",
       "      <td>0</td>\n",
       "      <td>1</td>\n",
       "      <td>0</td>\n",
       "    </tr>\n",
       "    <tr>\n",
       "      <th>1</th>\n",
       "      <td>7</td>\n",
       "      <td>22</td>\n",
       "      <td>0.144247</td>\n",
       "      <td>-0.917158</td>\n",
       "      <td>-1.434727</td>\n",
       "      <td>0</td>\n",
       "      <td>1</td>\n",
       "      <td>1</td>\n",
       "    </tr>\n",
       "    <tr>\n",
       "      <th>2</th>\n",
       "      <td>2</td>\n",
       "      <td>27</td>\n",
       "      <td>0.039196</td>\n",
       "      <td>0.261453</td>\n",
       "      <td>0.865732</td>\n",
       "      <td>0</td>\n",
       "      <td>1</td>\n",
       "      <td>1</td>\n",
       "    </tr>\n",
       "    <tr>\n",
       "      <th>3</th>\n",
       "      <td>2</td>\n",
       "      <td>16</td>\n",
       "      <td>1.044680</td>\n",
       "      <td>0.261453</td>\n",
       "      <td>-0.604158</td>\n",
       "      <td>0</td>\n",
       "      <td>1</td>\n",
       "      <td>1</td>\n",
       "    </tr>\n",
       "    <tr>\n",
       "      <th>4</th>\n",
       "      <td>7</td>\n",
       "      <td>17</td>\n",
       "      <td>0.144247</td>\n",
       "      <td>-0.917158</td>\n",
       "      <td>-1.407406</td>\n",
       "      <td>0</td>\n",
       "      <td>1</td>\n",
       "      <td>1</td>\n",
       "    </tr>\n",
       "  </tbody>\n",
       "</table>\n",
       "</div>"
      ],
      "text/plain": [
       "   Make  Year   Mileage        CC     Price  Type_Hybrid  Type_Petrol  \\\n",
       "0     8     7 -0.456042  5.211620  1.925801            0            1   \n",
       "1     7    22  0.144247 -0.917158 -1.434727            0            1   \n",
       "2     2    27  0.039196  0.261453  0.865732            0            1   \n",
       "3     2    16  1.044680  0.261453 -0.604158            0            1   \n",
       "4     7    17  0.144247 -0.917158 -1.407406            0            1   \n",
       "\n",
       "   Transmission_Manual  \n",
       "0                    0  \n",
       "1                    1  \n",
       "2                    1  \n",
       "3                    1  \n",
       "4                    1  "
      ]
     },
     "execution_count": 61,
     "metadata": {},
     "output_type": "execute_result"
    }
   ],
   "source": [
    "df.head()"
   ]
  },
  {
   "cell_type": "code",
   "execution_count": 62,
   "metadata": {
    "colab": {
     "base_uri": "https://localhost:8080/"
    },
    "id": "LisRIKYoAnmv",
    "outputId": "dd8791f0-de21-4ca0-d838-f75e09cbaf9a"
   },
   "outputs": [],
   "source": [
    "#Method 1\n",
    "\n",
    "y = df['Price']\n",
    "X = df.drop('Price', axis=1)"
   ]
  },
  {
   "cell_type": "code",
   "execution_count": 63,
   "metadata": {},
   "outputs": [
    {
     "name": "stdout",
     "output_type": "stream",
     "text": [
      "       Make  Year   Mileage        CC  Type_Hybrid  Type_Petrol  \\\n",
      "0         8     7 -0.456042  5.211620            0            1   \n",
      "1         7    22  0.144247 -0.917158            0            1   \n",
      "2         2    27  0.039196  0.261453            0            1   \n",
      "3         2    16  1.044680  0.261453            0            1   \n",
      "4         7    17  0.144247 -0.917158            0            1   \n",
      "...     ...   ...       ...       ...          ...          ...   \n",
      "50095     7    22 -0.381006 -0.917158            0            1   \n",
      "50096     7    27 -0.816215 -1.247169            0            1   \n",
      "50097     2    19  0.504420  1.440064            0            1   \n",
      "50098     2    18  0.444391  1.440064            0            1   \n",
      "50099     7    22 -0.095869 -0.445714            0            1   \n",
      "\n",
      "       Transmission_Manual  \n",
      "0                        0  \n",
      "1                        1  \n",
      "2                        1  \n",
      "3                        1  \n",
      "4                        1  \n",
      "...                    ...  \n",
      "50095                    1  \n",
      "50096                    1  \n",
      "50097                    0  \n",
      "50098                    0  \n",
      "50099                    1  \n",
      "\n",
      "[50100 rows x 7 columns]\n"
     ]
    }
   ],
   "source": [
    "print(X)\n"
   ]
  },
  {
   "cell_type": "code",
   "execution_count": 64,
   "metadata": {},
   "outputs": [
    {
     "name": "stdout",
     "output_type": "stream",
     "text": [
      "0        1.925801\n",
      "1       -1.434727\n",
      "2        0.865732\n",
      "3       -0.604158\n",
      "4       -1.407406\n",
      "           ...   \n",
      "50095   -1.156049\n",
      "50096    0.559733\n",
      "50097    0.177234\n",
      "50098   -0.281765\n",
      "50099   -0.992121\n",
      "Name: Price, Length: 50100, dtype: float64\n"
     ]
    }
   ],
   "source": [
    "print(y)"
   ]
  },
  {
   "cell_type": "code",
   "execution_count": 65,
   "metadata": {
    "colab": {
     "base_uri": "https://localhost:8080/"
    },
    "id": "WsgrV10OAMsw",
    "outputId": "800b982c-34c1-4827-a8d0-15a85bc4a8f3"
   },
   "outputs": [
    {
     "data": {
      "text/plain": [
       "(40080, 40080, 10020, 10020)"
      ]
     },
     "execution_count": 65,
     "metadata": {},
     "output_type": "execute_result"
    }
   ],
   "source": [
    "from sklearn.model_selection import train_test_split\n",
    "\n",
    "X_train, X_test, y_train, y_test = train_test_split(X, y, test_size=0.2, random_state=54)\n",
    "len(X_train), len(y_train), len(X_test), len(y_test)"
   ]
  },
  {
   "cell_type": "code",
   "execution_count": null,
   "metadata": {},
   "outputs": [],
   "source": []
  },
  {
   "cell_type": "code",
   "execution_count": null,
   "metadata": {},
   "outputs": [],
   "source": []
  },
  {
   "cell_type": "code",
   "execution_count": 66,
   "metadata": {},
   "outputs": [
    {
     "data": {
      "text/plain": [
       "Make                   0\n",
       "Year                   0\n",
       "Mileage                0\n",
       "CC                     0\n",
       "Price                  0\n",
       "Type_Hybrid            0\n",
       "Type_Petrol            0\n",
       "Transmission_Manual    0\n",
       "dtype: int64"
      ]
     },
     "execution_count": 66,
     "metadata": {},
     "output_type": "execute_result"
    }
   ],
   "source": [
    "df.isna().sum()"
   ]
  },
  {
   "cell_type": "markdown",
   "metadata": {},
   "source": [
    "# Train Model"
   ]
  },
  {
   "cell_type": "code",
   "execution_count": 67,
   "metadata": {
    "colab": {
     "base_uri": "https://localhost:8080/",
     "height": 245
    },
    "id": "0iq3RIcr-7ap",
    "outputId": "113838ab-044f-4396-fd5d-03040bb6a757"
   },
   "outputs": [],
   "source": [
    "from sklearn.ensemble import RandomForestRegressor\n",
    "from sklearn.model_selection import train_test_split\n",
    "from sklearn.metrics import mean_squared_error, r2_score"
   ]
  },
  {
   "cell_type": "code",
   "execution_count": null,
   "metadata": {},
   "outputs": [],
   "source": [
    "rf_regressor = RandomForestRegressor(n_estimators=100, random_state=42)\n",
    "rf_regressor.fit(X_train, y_train)"
   ]
  },
  {
   "cell_type": "code",
   "execution_count": null,
   "metadata": {},
   "outputs": [],
   "source": [
    "\n",
    "y_pred = rf_regressor.predict(X_test)\n"
   ]
  },
  {
   "cell_type": "code",
   "execution_count": null,
   "metadata": {},
   "outputs": [],
   "source": [
    "mse = mean_squared_error(y_test, y_pred)\n",
    "r2 = r2_score(y_test, y_pred)\n",
    "\n",
    "print(\"Mean Squared Error:\", mse)\n",
    "print(\"R2 Score:\", r2)"
   ]
  },
  {
   "cell_type": "code",
   "execution_count": null,
   "metadata": {},
   "outputs": [],
   "source": []
  },
  {
   "cell_type": "code",
   "execution_count": null,
   "metadata": {},
   "outputs": [],
   "source": []
  },
  {
   "cell_type": "code",
   "execution_count": null,
   "metadata": {
    "id": "1gCCaQD0AxeE"
   },
   "outputs": [],
   "source": []
  },
  {
   "cell_type": "code",
   "execution_count": null,
   "metadata": {
    "id": "xz-MajmyBR2G"
   },
   "outputs": [],
   "source": []
  },
  {
   "cell_type": "markdown",
   "metadata": {
    "id": "2RY2ywhIbQDr"
   },
   "source": [
    "# Cross Validation\n",
    "\n",
    "The scoring argument of cross_validate() method:\n",
    "\n",
    "By default cross_val_score() and cross_validate() methods uses the chosen model’s default\n",
    "scoring metric, but this can be overridden by specifying the scoring metric in the scoring parameter.\n",
    "\n",
    "For cross_Val_score() this can be a single scoring metric, while for cross_validate() you can\n",
    "pass either a single metric or multiple as a list to the scoring argument.\n",
    "\n",
    "scoring=None - means defailt scoring metric.\n",
    "\n"
   ]
  },
  {
   "cell_type": "code",
   "execution_count": null,
   "metadata": {
    "id": "47p0kKk0bZL6"
   },
   "outputs": [],
   "source": [
    "#cross_val_score(estimator, X, y=None, cv=None, scoring=None,return_train_score=True, return_estimator=True)\n",
    "from sklearn.model_selection import cross_validate\n",
    "from sklearn.model_selection import KFold\n",
    "from sklearn.metrics import make_scorer, f1_score\n",
    "\n",
    "\n",
    "kf = KFold(n_splits=5, shuffle=False)\n",
    "result_dict = cross_validate(RandomForestRegressor(n_estimators=100, random_state=42), X, y, cv=kf, scoring=('r2'),return_train_score=True)\n"
   ]
  },
  {
   "cell_type": "code",
   "execution_count": null,
   "metadata": {
    "id": "YnOkA6MdbfWb"
   },
   "outputs": [],
   "source": [
    "array=pd.DataFrame(result_dict)\n",
    "print(array)\n",
    "\n",
    "average_accuracy_test =array['test_score'].sum()/5\n",
    "average_accuracy_train =array['train_score'].sum()/5\n"
   ]
  },
  {
   "cell_type": "code",
   "execution_count": null,
   "metadata": {
    "id": "dHtCwAwmCYhd"
   },
   "outputs": [],
   "source": [
    "print(\"average train accuracy:\", average_accuracy_train)\n",
    "print(\"average test accuracy:\", average_accuracy_test)"
   ]
  },
  {
   "cell_type": "markdown",
   "metadata": {
    "id": "jCbsOSt1CaB3"
   },
   "source": [
    "# Finding Best Hyper-parameters"
   ]
  },
  {
   "cell_type": "code",
   "execution_count": null,
   "metadata": {
    "id": "EZoYQuMXDGAx"
   },
   "outputs": [],
   "source": [
    "model = RandomForestRegressor() \n",
    "model.get_params() #get all parameters"
   ]
  },
  {
   "cell_type": "code",
   "execution_count": null,
   "metadata": {},
   "outputs": [],
   "source": [
    "from sklearn.ensemble import RandomForestRegressor\n",
    "from sklearn.model_selection import RandomizedSearchCV\n",
    "from scipy.stats import randint\n",
    "\n",
    "\n"
   ]
  },
  {
   "cell_type": "code",
   "execution_count": null,
   "metadata": {
    "id": "ohloZx7SDRz0"
   },
   "outputs": [],
   "source": [
    "param_dist = {\n",
    "    'n_estimators': randint(10, 100),          # Number of trees in the forest\n",
    "    'max_features': ['auto', 'sqrt', 'log2'],\n",
    "    'max_depth': randint(1, 5),            \n",
    "    'min_samples_split': randint(2, 7),      \n",
    "    'min_samples_leaf': randint(1, 7)      \n",
    "}\n",
    "\n",
    "\n",
    "rf_regressor = RandomForestRegressor(random_state=42)\n",
    "\n",
    "\n",
    "random_search = RandomizedSearchCV(\n",
    "    rf_regressor, param_distributions=param_dist, n_iter=100, cv=5, n_jobs=-1, random_state=42, scoring='neg_mean_squared_error'\n",
    ")"
   ]
  },
  {
   "cell_type": "code",
   "execution_count": null,
   "metadata": {
    "id": "RMt03ujcDVoM"
   },
   "outputs": [],
   "source": [
    "random_search.fit(X_train, y_train)\n",
    "\n",
    "print(\"Best Score: \", random_search.best_score_)\n",
    "print(\"Best Score: \", random_search.best_params_)"
   ]
  },
  {
   "cell_type": "code",
   "execution_count": null,
   "metadata": {
    "id": "8dYnSLgtDYN2"
   },
   "outputs": [],
   "source": []
  },
  {
   "cell_type": "code",
   "execution_count": null,
   "metadata": {
    "id": "RP_8LIdMD0uL"
   },
   "outputs": [],
   "source": []
  },
  {
   "cell_type": "markdown",
   "metadata": {
    "id": "cFIYPPQFD5B5"
   },
   "source": [
    "# Pipelining all dataset:"
   ]
  },
  {
   "cell_type": "code",
   "execution_count": null,
   "metadata": {},
   "outputs": [],
   "source": [
    "df = pd.read_csv(r'C:\\Users\\Wasim\\train.csv')\n",
    "df.head()"
   ]
  },
  {
   "cell_type": "code",
   "execution_count": null,
   "metadata": {},
   "outputs": [],
   "source": [
    "from sklearn.model_selection import train_test_split\n",
    "X = df.drop('Price', axis=1)\n",
    "y = df['Price']\n",
    "X_train, X_test, y_train, y_test = train_test_split(X, y, test_size=0.2, shuffle=False)\n",
    "len(X_train), len(y_train), len(X_test), len(y_test)"
   ]
  },
  {
   "cell_type": "code",
   "execution_count": null,
   "metadata": {},
   "outputs": [],
   "source": []
  },
  {
   "cell_type": "code",
   "execution_count": null,
   "metadata": {},
   "outputs": [],
   "source": []
  },
  {
   "cell_type": "markdown",
   "metadata": {
    "id": "s2lPtArgEPaP"
   },
   "source": [
    "\n"
   ]
  },
  {
   "cell_type": "code",
   "execution_count": null,
   "metadata": {
    "id": "dr8890WEEBoy"
   },
   "outputs": [],
   "source": [
    "from sklearn.pipeline import Pipeline\n",
    "from sklearn.preprocessing import StandardScaler\n",
    "from sklearn.preprocessing import OneHotEncoder\n",
    "from sklearn.preprocessing import LabelEncoder\n",
    "\n",
    " \n",
    "Encode_onehot = Pipeline(steps=[('onehot', OneHotEncoder(drop='first',sparse=False,dtype=np.int32))])\n",
    "                               \n",
    "transform_1 = Pipeline(steps=[('standardscalar', StandardScaler())])\n",
    "\n",
    "    "
   ]
  },
  {
   "cell_type": "code",
   "execution_count": null,
   "metadata": {
    "id": "XJbAMCLcFUNS"
   },
   "outputs": [],
   "source": [
    "from sklearn.compose import ColumnTransformer\n",
    "\n",
    "\n",
    "preprocessor = ColumnTransformer( transformers=[\n",
    "    \n",
    " ('E1', Encode_onehot, [0,1,3,4]),\n",
    " ('T1', transform_1, [2,5])\n",
    "\n",
    " ])\n",
    "\n",
    "\n",
    "preprocessor\n",
    "\n"
   ]
  },
  {
   "cell_type": "code",
   "execution_count": null,
   "metadata": {},
   "outputs": [],
   "source": []
  },
  {
   "cell_type": "code",
   "execution_count": null,
   "metadata": {},
   "outputs": [],
   "source": [
    "from sklearn.preprocessing import StandardScaler\n",
    "from sklearn.linear_model import LogisticRegression\n",
    "from sklearn.ensemble import RandomForestRegressor\n",
    "\n",
    "pipe = Pipeline(steps=[\n",
    " ('preprocessor', preprocessor),\n",
    " ('regressor', RandomForestRegressor(n_estimators=100, random_state=42))\n",
    " ])\n",
    "\n",
    "len(X_train), len(y_train), len(X_test), len(y_test)\n",
    "\n",
    "# Fit the pipeline on the training data\n",
    "pipe\n"
   ]
  },
  {
   "cell_type": "code",
   "execution_count": null,
   "metadata": {},
   "outputs": [],
   "source": [
    "X_train.shape"
   ]
  },
  {
   "cell_type": "code",
   "execution_count": null,
   "metadata": {},
   "outputs": [],
   "source": [
    "y_train.shape"
   ]
  },
  {
   "cell_type": "code",
   "execution_count": null,
   "metadata": {},
   "outputs": [],
   "source": [
    "pipe.fit(X_train, y_train)"
   ]
  },
  {
   "cell_type": "code",
   "execution_count": null,
   "metadata": {},
   "outputs": [],
   "source": [
    "from sklearn.metrics import mean_squared_error, r2_score\n",
    "y_pred=pipe.predict(X_test)\n",
    "accuracy= r2_score(y_pred,y_test)\n",
    "print(accuracy)"
   ]
  },
  {
   "cell_type": "markdown",
   "metadata": {},
   "source": [
    "# Train model on complete dataset"
   ]
  },
  {
   "cell_type": "code",
   "execution_count": null,
   "metadata": {},
   "outputs": [],
   "source": [
    "pipe.fit(X, y)"
   ]
  },
  {
   "cell_type": "code",
   "execution_count": null,
   "metadata": {},
   "outputs": [],
   "source": [
    "import joblib\n",
    "joblib.dump(pipe,'project_model.pkl')"
   ]
  },
  {
   "cell_type": "code",
   "execution_count": null,
   "metadata": {},
   "outputs": [],
   "source": []
  },
  {
   "cell_type": "code",
   "execution_count": null,
   "metadata": {},
   "outputs": [],
   "source": []
  }
 ],
 "metadata": {
  "colab": {
   "provenance": []
  },
  "kernelspec": {
   "display_name": "Python 3 (ipykernel)",
   "language": "python",
   "name": "python3"
  },
  "language_info": {
   "codemirror_mode": {
    "name": "ipython",
    "version": 3
   },
   "file_extension": ".py",
   "mimetype": "text/x-python",
   "name": "python",
   "nbconvert_exporter": "python",
   "pygments_lexer": "ipython3",
   "version": "3.9.13"
  }
 },
 "nbformat": 4,
 "nbformat_minor": 1
}
